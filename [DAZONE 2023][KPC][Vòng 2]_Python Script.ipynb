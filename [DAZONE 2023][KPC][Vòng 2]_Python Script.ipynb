{
 "cells": [
  {
   "cell_type": "markdown",
   "id": "6b5d43b2",
   "metadata": {},
   "source": [
    "## 1. Import data"
   ]
  },
  {
   "cell_type": "code",
   "execution_count": 1,
   "id": "e68f022d",
   "metadata": {},
   "outputs": [],
   "source": [
    "import pandas as pd\n",
    "import numpy as np\n",
    "import matplotlib.pyplot as plt\n",
    "import seaborn as sns\n",
    "\n",
    "file_names = ['customers.csv', 'events.csv', 'fulfillment.csv', 'inventory.csv', 'items.csv', 'orders.csv', 'order_details.csv']\n",
    "dataframes = {}\n",
    "for file_name in file_names:\n",
    "    key = file_name.split('.')[0]\n",
    "    df = pd.read_csv(file_name)\n",
    "    dataframes[key] = df\n",
    "    \n",
    "customers = dataframes['customers']\n",
    "events = dataframes['events']\n",
    "fulfillment = dataframes['fulfillment']\n",
    "inventory = dataframes['inventory']\n",
    "items = dataframes['items']\n",
    "orders = dataframes['orders']\n",
    "order_details = dataframes['order_details']"
   ]
  },
  {
   "cell_type": "markdown",
   "id": "8b3e2788",
   "metadata": {},
   "source": [
    "## 2. Explore data\n"
   ]
  },
  {
   "cell_type": "markdown",
   "id": "77653b0e",
   "metadata": {},
   "source": [
    "We have successfully imported the necessary data. Now let's have a overview of each dataset."
   ]
  },
  {
   "cell_type": "markdown",
   "id": "c1e9ae55",
   "metadata": {},
   "source": [
    "### 2.1. customers dataset"
   ]
  },
  {
   "cell_type": "code",
   "execution_count": 2,
   "id": "120e0de6",
   "metadata": {
    "scrolled": true
   },
   "outputs": [
    {
     "data": {
      "text/html": [
       "<div>\n",
       "<style scoped>\n",
       "    .dataframe tbody tr th:only-of-type {\n",
       "        vertical-align: middle;\n",
       "    }\n",
       "\n",
       "    .dataframe tbody tr th {\n",
       "        vertical-align: top;\n",
       "    }\n",
       "\n",
       "    .dataframe thead th {\n",
       "        text-align: right;\n",
       "    }\n",
       "</style>\n",
       "<table border=\"1\" class=\"dataframe\">\n",
       "  <thead>\n",
       "    <tr style=\"text-align: right;\">\n",
       "      <th></th>\n",
       "      <th>id</th>\n",
       "      <th>age</th>\n",
       "      <th>sex</th>\n",
       "      <th>state</th>\n",
       "      <th>postal</th>\n",
       "      <th>city</th>\n",
       "      <th>country</th>\n",
       "      <th>lat</th>\n",
       "      <th>long</th>\n",
       "      <th>traffic_src</th>\n",
       "      <th>created_at</th>\n",
       "    </tr>\n",
       "  </thead>\n",
       "  <tbody>\n",
       "    <tr>\n",
       "      <th>0</th>\n",
       "      <td>44262</td>\n",
       "      <td>48</td>\n",
       "      <td>M</td>\n",
       "      <td>Mie</td>\n",
       "      <td>513-0836</td>\n",
       "      <td>Suzuka City</td>\n",
       "      <td>Japan</td>\n",
       "      <td>34.844881</td>\n",
       "      <td>136.515067</td>\n",
       "      <td>Facebook</td>\n",
       "      <td>2020-12-05 14:39:00 UTC</td>\n",
       "    </tr>\n",
       "    <tr>\n",
       "      <th>1</th>\n",
       "      <td>61852</td>\n",
       "      <td>21</td>\n",
       "      <td>M</td>\n",
       "      <td>Mie</td>\n",
       "      <td>513-0836</td>\n",
       "      <td>Suzuka City</td>\n",
       "      <td>Japan</td>\n",
       "      <td>34.854950</td>\n",
       "      <td>136.512359</td>\n",
       "      <td>Search</td>\n",
       "      <td>2022-01-24 13:00:00 UTC</td>\n",
       "    </tr>\n",
       "    <tr>\n",
       "      <th>2</th>\n",
       "      <td>82418</td>\n",
       "      <td>29</td>\n",
       "      <td>F</td>\n",
       "      <td>Mie</td>\n",
       "      <td>513-0836</td>\n",
       "      <td>Suzuka City</td>\n",
       "      <td>Japan</td>\n",
       "      <td>34.856105</td>\n",
       "      <td>136.503581</td>\n",
       "      <td>Search</td>\n",
       "      <td>2019-09-07 07:29:00 UTC</td>\n",
       "    </tr>\n",
       "    <tr>\n",
       "      <th>3</th>\n",
       "      <td>23274</td>\n",
       "      <td>53</td>\n",
       "      <td>M</td>\n",
       "      <td>Acre</td>\n",
       "      <td>69917-400</td>\n",
       "      <td>Rio Branco</td>\n",
       "      <td>Brasil</td>\n",
       "      <td>-9.950741</td>\n",
       "      <td>-67.845347</td>\n",
       "      <td>Search</td>\n",
       "      <td>2020-06-28 14:39:00 UTC</td>\n",
       "    </tr>\n",
       "    <tr>\n",
       "      <th>4</th>\n",
       "      <td>30022</td>\n",
       "      <td>23</td>\n",
       "      <td>F</td>\n",
       "      <td>Acre</td>\n",
       "      <td>69917-400</td>\n",
       "      <td>Rio Branco</td>\n",
       "      <td>Brasil</td>\n",
       "      <td>-9.944291</td>\n",
       "      <td>-67.838672</td>\n",
       "      <td>Email</td>\n",
       "      <td>2021-06-01 07:30:00 UTC</td>\n",
       "    </tr>\n",
       "  </tbody>\n",
       "</table>\n",
       "</div>"
      ],
      "text/plain": [
       "      id  age sex state     postal         city country        lat   \n",
       "0  44262   48   M   Mie   513-0836  Suzuka City   Japan  34.844881  \\\n",
       "1  61852   21   M   Mie   513-0836  Suzuka City   Japan  34.854950   \n",
       "2  82418   29   F   Mie   513-0836  Suzuka City   Japan  34.856105   \n",
       "3  23274   53   M  Acre  69917-400   Rio Branco  Brasil  -9.950741   \n",
       "4  30022   23   F  Acre  69917-400   Rio Branco  Brasil  -9.944291   \n",
       "\n",
       "         long traffic_src               created_at  \n",
       "0  136.515067    Facebook  2020-12-05 14:39:00 UTC  \n",
       "1  136.512359      Search  2022-01-24 13:00:00 UTC  \n",
       "2  136.503581      Search  2019-09-07 07:29:00 UTC  \n",
       "3  -67.845347      Search  2020-06-28 14:39:00 UTC  \n",
       "4  -67.838672       Email  2021-06-01 07:30:00 UTC  "
      ]
     },
     "execution_count": 2,
     "metadata": {},
     "output_type": "execute_result"
    }
   ],
   "source": [
    "customers.head()"
   ]
  },
  {
   "cell_type": "code",
   "execution_count": 3,
   "id": "244bb4fb",
   "metadata": {
    "scrolled": true
   },
   "outputs": [
    {
     "name": "stdout",
     "output_type": "stream",
     "text": [
      "<class 'pandas.core.frame.DataFrame'>\n",
      "RangeIndex: 100000 entries, 0 to 99999\n",
      "Data columns (total 11 columns):\n",
      " #   Column       Non-Null Count   Dtype  \n",
      "---  ------       --------------   -----  \n",
      " 0   id           100000 non-null  int64  \n",
      " 1   age          100000 non-null  int64  \n",
      " 2   sex          100000 non-null  object \n",
      " 3   state        100000 non-null  object \n",
      " 4   postal       100000 non-null  object \n",
      " 5   city         99038 non-null   object \n",
      " 6   country      100000 non-null  object \n",
      " 7   lat          100000 non-null  float64\n",
      " 8   long         100000 non-null  float64\n",
      " 9   traffic_src  100000 non-null  object \n",
      " 10  created_at   100000 non-null  object \n",
      "dtypes: float64(2), int64(2), object(7)\n",
      "memory usage: 8.4+ MB\n"
     ]
    }
   ],
   "source": [
    "customers.info()"
   ]
  },
  {
   "cell_type": "code",
   "execution_count": 4,
   "id": "17e6b43d",
   "metadata": {},
   "outputs": [
    {
     "data": {
      "text/html": [
       "<div>\n",
       "<style scoped>\n",
       "    .dataframe tbody tr th:only-of-type {\n",
       "        vertical-align: middle;\n",
       "    }\n",
       "\n",
       "    .dataframe tbody tr th {\n",
       "        vertical-align: top;\n",
       "    }\n",
       "\n",
       "    .dataframe thead th {\n",
       "        text-align: right;\n",
       "    }\n",
       "</style>\n",
       "<table border=\"1\" class=\"dataframe\">\n",
       "  <thead>\n",
       "    <tr style=\"text-align: right;\">\n",
       "      <th></th>\n",
       "      <th>id</th>\n",
       "      <th>age</th>\n",
       "      <th>lat</th>\n",
       "      <th>long</th>\n",
       "    </tr>\n",
       "  </thead>\n",
       "  <tbody>\n",
       "    <tr>\n",
       "      <th>count</th>\n",
       "      <td>100000.000000</td>\n",
       "      <td>100000.000000</td>\n",
       "      <td>100000.000000</td>\n",
       "      <td>100000.000000</td>\n",
       "    </tr>\n",
       "    <tr>\n",
       "      <th>mean</th>\n",
       "      <td>50000.500000</td>\n",
       "      <td>41.005680</td>\n",
       "      <td>28.216307</td>\n",
       "      <td>24.686522</td>\n",
       "    </tr>\n",
       "    <tr>\n",
       "      <th>std</th>\n",
       "      <td>28867.657797</td>\n",
       "      <td>17.050124</td>\n",
       "      <td>22.100968</td>\n",
       "      <td>89.884598</td>\n",
       "    </tr>\n",
       "    <tr>\n",
       "      <th>min</th>\n",
       "      <td>1.000000</td>\n",
       "      <td>12.000000</td>\n",
       "      <td>-43.262138</td>\n",
       "      <td>-158.166593</td>\n",
       "    </tr>\n",
       "    <tr>\n",
       "      <th>25%</th>\n",
       "      <td>25000.750000</td>\n",
       "      <td>26.000000</td>\n",
       "      <td>26.031314</td>\n",
       "      <td>-50.783276</td>\n",
       "    </tr>\n",
       "    <tr>\n",
       "      <th>50%</th>\n",
       "      <td>50000.500000</td>\n",
       "      <td>41.000000</td>\n",
       "      <td>35.198930</td>\n",
       "      <td>4.539350</td>\n",
       "    </tr>\n",
       "    <tr>\n",
       "      <th>75%</th>\n",
       "      <td>75000.250000</td>\n",
       "      <td>56.000000</td>\n",
       "      <td>40.701451</td>\n",
       "      <td>116.342870</td>\n",
       "    </tr>\n",
       "    <tr>\n",
       "      <th>max</th>\n",
       "      <td>100000.000000</td>\n",
       "      <td>70.000000</td>\n",
       "      <td>64.874350</td>\n",
       "      <td>153.567414</td>\n",
       "    </tr>\n",
       "  </tbody>\n",
       "</table>\n",
       "</div>"
      ],
      "text/plain": [
       "                  id            age            lat           long\n",
       "count  100000.000000  100000.000000  100000.000000  100000.000000\n",
       "mean    50000.500000      41.005680      28.216307      24.686522\n",
       "std     28867.657797      17.050124      22.100968      89.884598\n",
       "min         1.000000      12.000000     -43.262138    -158.166593\n",
       "25%     25000.750000      26.000000      26.031314     -50.783276\n",
       "50%     50000.500000      41.000000      35.198930       4.539350\n",
       "75%     75000.250000      56.000000      40.701451     116.342870\n",
       "max    100000.000000      70.000000      64.874350     153.567414"
      ]
     },
     "execution_count": 4,
     "metadata": {},
     "output_type": "execute_result"
    }
   ],
   "source": [
    "customers.describe()"
   ]
  },
  {
   "cell_type": "markdown",
   "id": "7117d84b",
   "metadata": {},
   "source": [
    "### 2.2. events dataset"
   ]
  },
  {
   "cell_type": "code",
   "execution_count": 5,
   "id": "d3a6b3f5",
   "metadata": {},
   "outputs": [
    {
     "data": {
      "text/html": [
       "<div>\n",
       "<style scoped>\n",
       "    .dataframe tbody tr th:only-of-type {\n",
       "        vertical-align: middle;\n",
       "    }\n",
       "\n",
       "    .dataframe tbody tr th {\n",
       "        vertical-align: top;\n",
       "    }\n",
       "\n",
       "    .dataframe thead th {\n",
       "        text-align: right;\n",
       "    }\n",
       "</style>\n",
       "<table border=\"1\" class=\"dataframe\">\n",
       "  <thead>\n",
       "    <tr style=\"text-align: right;\">\n",
       "      <th></th>\n",
       "      <th>id</th>\n",
       "      <th>cus_id</th>\n",
       "      <th>sequence_number</th>\n",
       "      <th>session_id</th>\n",
       "      <th>created_at</th>\n",
       "      <th>ip</th>\n",
       "      <th>city</th>\n",
       "      <th>state</th>\n",
       "      <th>postal</th>\n",
       "      <th>browser</th>\n",
       "      <th>traffic_src</th>\n",
       "      <th>path</th>\n",
       "      <th>event_type</th>\n",
       "    </tr>\n",
       "  </thead>\n",
       "  <tbody>\n",
       "    <tr>\n",
       "      <th>0</th>\n",
       "      <td>551</td>\n",
       "      <td>34.0</td>\n",
       "      <td>12</td>\n",
       "      <td>3c06e3f2-e8ed-4eb6-b24c-ccec40b8c2e7</td>\n",
       "      <td>2019-08-16 06:37:53 UTC</td>\n",
       "      <td>106.89.165.48</td>\n",
       "      <td>Kansas City</td>\n",
       "      <td>Kansas</td>\n",
       "      <td>66102</td>\n",
       "      <td>Chrome</td>\n",
       "      <td>Email</td>\n",
       "      <td>/cart</td>\n",
       "      <td>cart</td>\n",
       "    </tr>\n",
       "    <tr>\n",
       "      <th>1</th>\n",
       "      <td>1730</td>\n",
       "      <td>106.0</td>\n",
       "      <td>6</td>\n",
       "      <td>6d550704-9304-48df-990d-01fdbb676694</td>\n",
       "      <td>2021-02-22 05:56:40 UTC</td>\n",
       "      <td>103.12.134.61</td>\n",
       "      <td>New York</td>\n",
       "      <td>New York</td>\n",
       "      <td>11372</td>\n",
       "      <td>Chrome</td>\n",
       "      <td>Email</td>\n",
       "      <td>/cart</td>\n",
       "      <td>cart</td>\n",
       "    </tr>\n",
       "    <tr>\n",
       "      <th>2</th>\n",
       "      <td>2093</td>\n",
       "      <td>136.0</td>\n",
       "      <td>3</td>\n",
       "      <td>88457dec-f879-4f47-9585-98067ff94d75</td>\n",
       "      <td>2020-01-15 01:35:00 UTC</td>\n",
       "      <td>209.79.4.205</td>\n",
       "      <td>Beijing</td>\n",
       "      <td>Tianjin</td>\n",
       "      <td>300456</td>\n",
       "      <td>Firefox</td>\n",
       "      <td>Email</td>\n",
       "      <td>/cart</td>\n",
       "      <td>cart</td>\n",
       "    </tr>\n",
       "    <tr>\n",
       "      <th>3</th>\n",
       "      <td>2190</td>\n",
       "      <td>138.0</td>\n",
       "      <td>3</td>\n",
       "      <td>2729a4a5-1177-4a13-8419-f5f79f350876</td>\n",
       "      <td>2021-03-02 09:15:42 UTC</td>\n",
       "      <td>56.27.73.26</td>\n",
       "      <td>Quanzhou</td>\n",
       "      <td>Liaoning</td>\n",
       "      <td>110041</td>\n",
       "      <td>Chrome</td>\n",
       "      <td>Email</td>\n",
       "      <td>/cart</td>\n",
       "      <td>cart</td>\n",
       "    </tr>\n",
       "    <tr>\n",
       "      <th>4</th>\n",
       "      <td>2882</td>\n",
       "      <td>186.0</td>\n",
       "      <td>4</td>\n",
       "      <td>0933c284-960e-4f9b-9950-82e2d831c8e4</td>\n",
       "      <td>2020-01-19 00:54:42 UTC</td>\n",
       "      <td>45.195.175.235</td>\n",
       "      <td>Currais Novos</td>\n",
       "      <td>Rio Grande do Norte</td>\n",
       "      <td>59380-000</td>\n",
       "      <td>Safari</td>\n",
       "      <td>Email</td>\n",
       "      <td>/cart</td>\n",
       "      <td>cart</td>\n",
       "    </tr>\n",
       "  </tbody>\n",
       "</table>\n",
       "</div>"
      ],
      "text/plain": [
       "     id  cus_id  sequence_number                            session_id   \n",
       "0   551    34.0               12  3c06e3f2-e8ed-4eb6-b24c-ccec40b8c2e7  \\\n",
       "1  1730   106.0                6  6d550704-9304-48df-990d-01fdbb676694   \n",
       "2  2093   136.0                3  88457dec-f879-4f47-9585-98067ff94d75   \n",
       "3  2190   138.0                3  2729a4a5-1177-4a13-8419-f5f79f350876   \n",
       "4  2882   186.0                4  0933c284-960e-4f9b-9950-82e2d831c8e4   \n",
       "\n",
       "                created_at              ip           city   \n",
       "0  2019-08-16 06:37:53 UTC   106.89.165.48    Kansas City  \\\n",
       "1  2021-02-22 05:56:40 UTC   103.12.134.61       New York   \n",
       "2  2020-01-15 01:35:00 UTC    209.79.4.205        Beijing   \n",
       "3  2021-03-02 09:15:42 UTC     56.27.73.26       Quanzhou   \n",
       "4  2020-01-19 00:54:42 UTC  45.195.175.235  Currais Novos   \n",
       "\n",
       "                 state     postal  browser traffic_src   path event_type  \n",
       "0               Kansas      66102   Chrome       Email  /cart       cart  \n",
       "1             New York      11372   Chrome       Email  /cart       cart  \n",
       "2              Tianjin     300456  Firefox       Email  /cart       cart  \n",
       "3             Liaoning     110041   Chrome       Email  /cart       cart  \n",
       "4  Rio Grande do Norte  59380-000   Safari       Email  /cart       cart  "
      ]
     },
     "execution_count": 5,
     "metadata": {},
     "output_type": "execute_result"
    }
   ],
   "source": [
    "events.head()"
   ]
  },
  {
   "cell_type": "code",
   "execution_count": 6,
   "id": "99277e5b",
   "metadata": {},
   "outputs": [
    {
     "name": "stdout",
     "output_type": "stream",
     "text": [
      "<class 'pandas.core.frame.DataFrame'>\n",
      "RangeIndex: 2420738 entries, 0 to 2420737\n",
      "Data columns (total 13 columns):\n",
      " #   Column           Dtype  \n",
      "---  ------           -----  \n",
      " 0   id               int64  \n",
      " 1   cus_id           float64\n",
      " 2   sequence_number  int64  \n",
      " 3   session_id       object \n",
      " 4   created_at       object \n",
      " 5   ip               object \n",
      " 6   city             object \n",
      " 7   state            object \n",
      " 8   postal           object \n",
      " 9   browser          object \n",
      " 10  traffic_src      object \n",
      " 11  path             object \n",
      " 12  event_type       object \n",
      "dtypes: float64(1), int64(2), object(10)\n",
      "memory usage: 240.1+ MB\n"
     ]
    }
   ],
   "source": [
    "events.info()"
   ]
  },
  {
   "cell_type": "code",
   "execution_count": 7,
   "id": "74d11bf0",
   "metadata": {},
   "outputs": [
    {
     "data": {
      "text/html": [
       "<div>\n",
       "<style scoped>\n",
       "    .dataframe tbody tr th:only-of-type {\n",
       "        vertical-align: middle;\n",
       "    }\n",
       "\n",
       "    .dataframe tbody tr th {\n",
       "        vertical-align: top;\n",
       "    }\n",
       "\n",
       "    .dataframe thead th {\n",
       "        text-align: right;\n",
       "    }\n",
       "</style>\n",
       "<table border=\"1\" class=\"dataframe\">\n",
       "  <thead>\n",
       "    <tr style=\"text-align: right;\">\n",
       "      <th></th>\n",
       "      <th>id</th>\n",
       "      <th>cus_id</th>\n",
       "      <th>sequence_number</th>\n",
       "    </tr>\n",
       "  </thead>\n",
       "  <tbody>\n",
       "    <tr>\n",
       "      <th>count</th>\n",
       "      <td>2.420738e+06</td>\n",
       "      <td>1.296673e+06</td>\n",
       "      <td>2.420738e+06</td>\n",
       "    </tr>\n",
       "    <tr>\n",
       "      <th>mean</th>\n",
       "      <td>1.210370e+06</td>\n",
       "      <td>4.984494e+04</td>\n",
       "      <td>3.302979e+00</td>\n",
       "    </tr>\n",
       "    <tr>\n",
       "      <th>std</th>\n",
       "      <td>6.988070e+05</td>\n",
       "      <td>2.885942e+04</td>\n",
       "      <td>2.662963e+00</td>\n",
       "    </tr>\n",
       "    <tr>\n",
       "      <th>min</th>\n",
       "      <td>1.000000e+00</td>\n",
       "      <td>1.000000e+00</td>\n",
       "      <td>1.000000e+00</td>\n",
       "    </tr>\n",
       "    <tr>\n",
       "      <th>25%</th>\n",
       "      <td>6.051852e+05</td>\n",
       "      <td>2.489500e+04</td>\n",
       "      <td>1.000000e+00</td>\n",
       "    </tr>\n",
       "    <tr>\n",
       "      <th>50%</th>\n",
       "      <td>1.210370e+06</td>\n",
       "      <td>4.975600e+04</td>\n",
       "      <td>2.000000e+00</td>\n",
       "    </tr>\n",
       "    <tr>\n",
       "      <th>75%</th>\n",
       "      <td>1.815554e+06</td>\n",
       "      <td>7.487600e+04</td>\n",
       "      <td>4.000000e+00</td>\n",
       "    </tr>\n",
       "    <tr>\n",
       "      <th>max</th>\n",
       "      <td>2.420738e+06</td>\n",
       "      <td>1.000000e+05</td>\n",
       "      <td>1.300000e+01</td>\n",
       "    </tr>\n",
       "  </tbody>\n",
       "</table>\n",
       "</div>"
      ],
      "text/plain": [
       "                 id        cus_id  sequence_number\n",
       "count  2.420738e+06  1.296673e+06     2.420738e+06\n",
       "mean   1.210370e+06  4.984494e+04     3.302979e+00\n",
       "std    6.988070e+05  2.885942e+04     2.662963e+00\n",
       "min    1.000000e+00  1.000000e+00     1.000000e+00\n",
       "25%    6.051852e+05  2.489500e+04     1.000000e+00\n",
       "50%    1.210370e+06  4.975600e+04     2.000000e+00\n",
       "75%    1.815554e+06  7.487600e+04     4.000000e+00\n",
       "max    2.420738e+06  1.000000e+05     1.300000e+01"
      ]
     },
     "execution_count": 7,
     "metadata": {},
     "output_type": "execute_result"
    }
   ],
   "source": [
    "events.describe()"
   ]
  },
  {
   "cell_type": "markdown",
   "id": "289136ef",
   "metadata": {},
   "source": [
    "### 2.3. fulfillment dataset"
   ]
  },
  {
   "cell_type": "code",
   "execution_count": 8,
   "id": "5563cd74",
   "metadata": {},
   "outputs": [
    {
     "data": {
      "text/html": [
       "<div>\n",
       "<style scoped>\n",
       "    .dataframe tbody tr th:only-of-type {\n",
       "        vertical-align: middle;\n",
       "    }\n",
       "\n",
       "    .dataframe tbody tr th {\n",
       "        vertical-align: top;\n",
       "    }\n",
       "\n",
       "    .dataframe thead th {\n",
       "        text-align: right;\n",
       "    }\n",
       "</style>\n",
       "<table border=\"1\" class=\"dataframe\">\n",
       "  <thead>\n",
       "    <tr style=\"text-align: right;\">\n",
       "      <th></th>\n",
       "      <th>id</th>\n",
       "      <th>name</th>\n",
       "      <th>lat</th>\n",
       "      <th>long</th>\n",
       "    </tr>\n",
       "  </thead>\n",
       "  <tbody>\n",
       "    <tr>\n",
       "      <th>0</th>\n",
       "      <td>1</td>\n",
       "      <td>TN</td>\n",
       "      <td>35.112119</td>\n",
       "      <td>-89.973777</td>\n",
       "    </tr>\n",
       "    <tr>\n",
       "      <th>1</th>\n",
       "      <td>2</td>\n",
       "      <td>IL</td>\n",
       "      <td>41.837615</td>\n",
       "      <td>-87.680856</td>\n",
       "    </tr>\n",
       "    <tr>\n",
       "      <th>2</th>\n",
       "      <td>3</td>\n",
       "      <td>TX</td>\n",
       "      <td>29.765003</td>\n",
       "      <td>-95.360446</td>\n",
       "    </tr>\n",
       "    <tr>\n",
       "      <th>3</th>\n",
       "      <td>4</td>\n",
       "      <td>CA</td>\n",
       "      <td>34.040176</td>\n",
       "      <td>-118.244589</td>\n",
       "    </tr>\n",
       "    <tr>\n",
       "      <th>4</th>\n",
       "      <td>5</td>\n",
       "      <td>LA</td>\n",
       "      <td>29.947774</td>\n",
       "      <td>-90.061055</td>\n",
       "    </tr>\n",
       "  </tbody>\n",
       "</table>\n",
       "</div>"
      ],
      "text/plain": [
       "   id name        lat        long\n",
       "0   1   TN  35.112119  -89.973777\n",
       "1   2   IL  41.837615  -87.680856\n",
       "2   3   TX  29.765003  -95.360446\n",
       "3   4   CA  34.040176 -118.244589\n",
       "4   5   LA  29.947774  -90.061055"
      ]
     },
     "execution_count": 8,
     "metadata": {},
     "output_type": "execute_result"
    }
   ],
   "source": [
    "fulfillment.head()"
   ]
  },
  {
   "cell_type": "code",
   "execution_count": 9,
   "id": "93b41566",
   "metadata": {},
   "outputs": [
    {
     "name": "stdout",
     "output_type": "stream",
     "text": [
      "<class 'pandas.core.frame.DataFrame'>\n",
      "RangeIndex: 10 entries, 0 to 9\n",
      "Data columns (total 4 columns):\n",
      " #   Column  Non-Null Count  Dtype  \n",
      "---  ------  --------------  -----  \n",
      " 0   id      10 non-null     int64  \n",
      " 1   name    10 non-null     object \n",
      " 2   lat     10 non-null     float64\n",
      " 3   long    10 non-null     float64\n",
      "dtypes: float64(2), int64(1), object(1)\n",
      "memory usage: 448.0+ bytes\n"
     ]
    }
   ],
   "source": [
    "fulfillment.info()"
   ]
  },
  {
   "cell_type": "code",
   "execution_count": 10,
   "id": "000c92da",
   "metadata": {},
   "outputs": [
    {
     "data": {
      "text/html": [
       "<div>\n",
       "<style scoped>\n",
       "    .dataframe tbody tr th:only-of-type {\n",
       "        vertical-align: middle;\n",
       "    }\n",
       "\n",
       "    .dataframe tbody tr th {\n",
       "        vertical-align: top;\n",
       "    }\n",
       "\n",
       "    .dataframe thead th {\n",
       "        text-align: right;\n",
       "    }\n",
       "</style>\n",
       "<table border=\"1\" class=\"dataframe\">\n",
       "  <thead>\n",
       "    <tr style=\"text-align: right;\">\n",
       "      <th></th>\n",
       "      <th>id</th>\n",
       "      <th>lat</th>\n",
       "      <th>long</th>\n",
       "    </tr>\n",
       "  </thead>\n",
       "  <tbody>\n",
       "    <tr>\n",
       "      <th>count</th>\n",
       "      <td>10.00000</td>\n",
       "      <td>10.000000</td>\n",
       "      <td>10.000000</td>\n",
       "    </tr>\n",
       "    <tr>\n",
       "      <th>mean</th>\n",
       "      <td>5.50000</td>\n",
       "      <td>34.677777</td>\n",
       "      <td>-87.936083</td>\n",
       "    </tr>\n",
       "    <tr>\n",
       "      <th>std</th>\n",
       "      <td>3.02765</td>\n",
       "      <td>4.571860</td>\n",
       "      <td>12.720929</td>\n",
       "    </tr>\n",
       "    <tr>\n",
       "      <th>min</th>\n",
       "      <td>1.00000</td>\n",
       "      <td>29.765003</td>\n",
       "      <td>-118.244589</td>\n",
       "    </tr>\n",
       "    <tr>\n",
       "      <th>25%</th>\n",
       "      <td>3.25000</td>\n",
       "      <td>31.029393</td>\n",
       "      <td>-90.039235</td>\n",
       "    </tr>\n",
       "    <tr>\n",
       "      <th>50%</th>\n",
       "      <td>5.50000</td>\n",
       "      <td>33.410849</td>\n",
       "      <td>-87.861306</td>\n",
       "    </tr>\n",
       "    <tr>\n",
       "      <th>75%</th>\n",
       "      <td>7.75000</td>\n",
       "      <td>38.738584</td>\n",
       "      <td>-80.228884</td>\n",
       "    </tr>\n",
       "    <tr>\n",
       "      <th>max</th>\n",
       "      <td>10.00000</td>\n",
       "      <td>41.837615</td>\n",
       "      <td>-73.782421</td>\n",
       "    </tr>\n",
       "  </tbody>\n",
       "</table>\n",
       "</div>"
      ],
      "text/plain": [
       "             id        lat        long\n",
       "count  10.00000  10.000000   10.000000\n",
       "mean    5.50000  34.677777  -87.936083\n",
       "std     3.02765   4.571860   12.720929\n",
       "min     1.00000  29.765003 -118.244589\n",
       "25%     3.25000  31.029393  -90.039235\n",
       "50%     5.50000  33.410849  -87.861306\n",
       "75%     7.75000  38.738584  -80.228884\n",
       "max    10.00000  41.837615  -73.782421"
      ]
     },
     "execution_count": 10,
     "metadata": {},
     "output_type": "execute_result"
    }
   ],
   "source": [
    "fulfillment.describe()"
   ]
  },
  {
   "cell_type": "markdown",
   "id": "4eabce2e",
   "metadata": {},
   "source": [
    "### 2.4. inventory dataset"
   ]
  },
  {
   "cell_type": "code",
   "execution_count": 11,
   "id": "27e66995",
   "metadata": {},
   "outputs": [
    {
     "data": {
      "text/html": [
       "<div>\n",
       "<style scoped>\n",
       "    .dataframe tbody tr th:only-of-type {\n",
       "        vertical-align: middle;\n",
       "    }\n",
       "\n",
       "    .dataframe tbody tr th {\n",
       "        vertical-align: top;\n",
       "    }\n",
       "\n",
       "    .dataframe thead th {\n",
       "        text-align: right;\n",
       "    }\n",
       "</style>\n",
       "<table border=\"1\" class=\"dataframe\">\n",
       "  <thead>\n",
       "    <tr style=\"text-align: right;\">\n",
       "      <th></th>\n",
       "      <th>id</th>\n",
       "      <th>item_id</th>\n",
       "      <th>created_at</th>\n",
       "      <th>sold_at</th>\n",
       "    </tr>\n",
       "  </thead>\n",
       "  <tbody>\n",
       "    <tr>\n",
       "      <th>0</th>\n",
       "      <td>58100</td>\n",
       "      <td>16898</td>\n",
       "      <td>2021-07-13 13:48:37 UTC</td>\n",
       "      <td>2021-07-25 22:59:37 UTC</td>\n",
       "    </tr>\n",
       "    <tr>\n",
       "      <th>1</th>\n",
       "      <td>58101</td>\n",
       "      <td>16898</td>\n",
       "      <td>2021-08-26 05:08:00 UTC</td>\n",
       "      <td>NaN</td>\n",
       "    </tr>\n",
       "    <tr>\n",
       "      <th>2</th>\n",
       "      <td>60386</td>\n",
       "      <td>16898</td>\n",
       "      <td>2022-04-04 06:22:56 UTC</td>\n",
       "      <td>2022-05-23 07:33:56 UTC</td>\n",
       "    </tr>\n",
       "    <tr>\n",
       "      <th>3</th>\n",
       "      <td>60387</td>\n",
       "      <td>16898</td>\n",
       "      <td>2020-03-15 09:37:00 UTC</td>\n",
       "      <td>NaN</td>\n",
       "    </tr>\n",
       "    <tr>\n",
       "      <th>4</th>\n",
       "      <td>60388</td>\n",
       "      <td>16898</td>\n",
       "      <td>2020-11-23 14:49:00 UTC</td>\n",
       "      <td>NaN</td>\n",
       "    </tr>\n",
       "  </tbody>\n",
       "</table>\n",
       "</div>"
      ],
      "text/plain": [
       "      id  item_id               created_at                  sold_at\n",
       "0  58100    16898  2021-07-13 13:48:37 UTC  2021-07-25 22:59:37 UTC\n",
       "1  58101    16898  2021-08-26 05:08:00 UTC                      NaN\n",
       "2  60386    16898  2022-04-04 06:22:56 UTC  2022-05-23 07:33:56 UTC\n",
       "3  60387    16898  2020-03-15 09:37:00 UTC                      NaN\n",
       "4  60388    16898  2020-11-23 14:49:00 UTC                      NaN"
      ]
     },
     "execution_count": 11,
     "metadata": {},
     "output_type": "execute_result"
    }
   ],
   "source": [
    "inventory.head()"
   ]
  },
  {
   "cell_type": "code",
   "execution_count": 12,
   "id": "099a3ddd",
   "metadata": {},
   "outputs": [
    {
     "name": "stdout",
     "output_type": "stream",
     "text": [
      "<class 'pandas.core.frame.DataFrame'>\n",
      "RangeIndex: 487901 entries, 0 to 487900\n",
      "Data columns (total 4 columns):\n",
      " #   Column      Non-Null Count   Dtype \n",
      "---  ------      --------------   ----- \n",
      " 0   id          487901 non-null  int64 \n",
      " 1   item_id     487901 non-null  int64 \n",
      " 2   created_at  487901 non-null  object\n",
      " 3   sold_at     180952 non-null  object\n",
      "dtypes: int64(2), object(2)\n",
      "memory usage: 14.9+ MB\n"
     ]
    }
   ],
   "source": [
    "inventory.info()"
   ]
  },
  {
   "cell_type": "code",
   "execution_count": 13,
   "id": "d0ebb52a",
   "metadata": {},
   "outputs": [
    {
     "data": {
      "text/html": [
       "<div>\n",
       "<style scoped>\n",
       "    .dataframe tbody tr th:only-of-type {\n",
       "        vertical-align: middle;\n",
       "    }\n",
       "\n",
       "    .dataframe tbody tr th {\n",
       "        vertical-align: top;\n",
       "    }\n",
       "\n",
       "    .dataframe thead th {\n",
       "        text-align: right;\n",
       "    }\n",
       "</style>\n",
       "<table border=\"1\" class=\"dataframe\">\n",
       "  <thead>\n",
       "    <tr style=\"text-align: right;\">\n",
       "      <th></th>\n",
       "      <th>id</th>\n",
       "      <th>item_id</th>\n",
       "    </tr>\n",
       "  </thead>\n",
       "  <tbody>\n",
       "    <tr>\n",
       "      <th>count</th>\n",
       "      <td>487901.000000</td>\n",
       "      <td>487901.000000</td>\n",
       "    </tr>\n",
       "    <tr>\n",
       "      <th>mean</th>\n",
       "      <td>243951.000000</td>\n",
       "      <td>15302.587472</td>\n",
       "    </tr>\n",
       "    <tr>\n",
       "      <th>std</th>\n",
       "      <td>140845.031181</td>\n",
       "      <td>8426.138128</td>\n",
       "    </tr>\n",
       "    <tr>\n",
       "      <th>min</th>\n",
       "      <td>1.000000</td>\n",
       "      <td>1.000000</td>\n",
       "    </tr>\n",
       "    <tr>\n",
       "      <th>25%</th>\n",
       "      <td>121976.000000</td>\n",
       "      <td>8005.000000</td>\n",
       "    </tr>\n",
       "    <tr>\n",
       "      <th>50%</th>\n",
       "      <td>243951.000000</td>\n",
       "      <td>16047.000000</td>\n",
       "    </tr>\n",
       "    <tr>\n",
       "      <th>75%</th>\n",
       "      <td>365926.000000</td>\n",
       "      <td>22592.000000</td>\n",
       "    </tr>\n",
       "    <tr>\n",
       "      <th>max</th>\n",
       "      <td>487901.000000</td>\n",
       "      <td>29120.000000</td>\n",
       "    </tr>\n",
       "  </tbody>\n",
       "</table>\n",
       "</div>"
      ],
      "text/plain": [
       "                  id        item_id\n",
       "count  487901.000000  487901.000000\n",
       "mean   243951.000000   15302.587472\n",
       "std    140845.031181    8426.138128\n",
       "min         1.000000       1.000000\n",
       "25%    121976.000000    8005.000000\n",
       "50%    243951.000000   16047.000000\n",
       "75%    365926.000000   22592.000000\n",
       "max    487901.000000   29120.000000"
      ]
     },
     "execution_count": 13,
     "metadata": {},
     "output_type": "execute_result"
    }
   ],
   "source": [
    "inventory.describe()"
   ]
  },
  {
   "cell_type": "markdown",
   "id": "b2acac2b",
   "metadata": {},
   "source": [
    "### 2.5. items dataset"
   ]
  },
  {
   "cell_type": "code",
   "execution_count": 14,
   "id": "350da25a",
   "metadata": {},
   "outputs": [
    {
     "data": {
      "text/html": [
       "<div>\n",
       "<style scoped>\n",
       "    .dataframe tbody tr th:only-of-type {\n",
       "        vertical-align: middle;\n",
       "    }\n",
       "\n",
       "    .dataframe tbody tr th {\n",
       "        vertical-align: top;\n",
       "    }\n",
       "\n",
       "    .dataframe thead th {\n",
       "        text-align: right;\n",
       "    }\n",
       "</style>\n",
       "<table border=\"1\" class=\"dataframe\">\n",
       "  <thead>\n",
       "    <tr style=\"text-align: right;\">\n",
       "      <th></th>\n",
       "      <th>id</th>\n",
       "      <th>cost</th>\n",
       "      <th>category</th>\n",
       "      <th>brand</th>\n",
       "      <th>retail_price</th>\n",
       "      <th>department</th>\n",
       "      <th>fulfillment_id</th>\n",
       "    </tr>\n",
       "  </thead>\n",
       "  <tbody>\n",
       "    <tr>\n",
       "      <th>0</th>\n",
       "      <td>27569</td>\n",
       "      <td>92.652563</td>\n",
       "      <td>Swim</td>\n",
       "      <td>2XU</td>\n",
       "      <td>150.410004</td>\n",
       "      <td>Men</td>\n",
       "      <td>1</td>\n",
       "    </tr>\n",
       "    <tr>\n",
       "      <th>1</th>\n",
       "      <td>27445</td>\n",
       "      <td>23.719661</td>\n",
       "      <td>Swim</td>\n",
       "      <td>TYR</td>\n",
       "      <td>38.990002</td>\n",
       "      <td>Men</td>\n",
       "      <td>1</td>\n",
       "    </tr>\n",
       "    <tr>\n",
       "      <th>2</th>\n",
       "      <td>27457</td>\n",
       "      <td>15.597600</td>\n",
       "      <td>Swim</td>\n",
       "      <td>TYR</td>\n",
       "      <td>27.600000</td>\n",
       "      <td>Men</td>\n",
       "      <td>1</td>\n",
       "    </tr>\n",
       "    <tr>\n",
       "      <th>3</th>\n",
       "      <td>27466</td>\n",
       "      <td>17.850000</td>\n",
       "      <td>Swim</td>\n",
       "      <td>TYR</td>\n",
       "      <td>30.000000</td>\n",
       "      <td>Men</td>\n",
       "      <td>1</td>\n",
       "    </tr>\n",
       "    <tr>\n",
       "      <th>4</th>\n",
       "      <td>27481</td>\n",
       "      <td>28.608001</td>\n",
       "      <td>Swim</td>\n",
       "      <td>TYR</td>\n",
       "      <td>45.950001</td>\n",
       "      <td>Men</td>\n",
       "      <td>1</td>\n",
       "    </tr>\n",
       "  </tbody>\n",
       "</table>\n",
       "</div>"
      ],
      "text/plain": [
       "      id       cost category brand  retail_price department  fulfillment_id\n",
       "0  27569  92.652563     Swim   2XU    150.410004        Men               1\n",
       "1  27445  23.719661     Swim   TYR     38.990002        Men               1\n",
       "2  27457  15.597600     Swim   TYR     27.600000        Men               1\n",
       "3  27466  17.850000     Swim   TYR     30.000000        Men               1\n",
       "4  27481  28.608001     Swim   TYR     45.950001        Men               1"
      ]
     },
     "execution_count": 14,
     "metadata": {},
     "output_type": "execute_result"
    }
   ],
   "source": [
    "items.head()"
   ]
  },
  {
   "cell_type": "code",
   "execution_count": 15,
   "id": "a0e0d916",
   "metadata": {},
   "outputs": [
    {
     "name": "stdout",
     "output_type": "stream",
     "text": [
      "<class 'pandas.core.frame.DataFrame'>\n",
      "RangeIndex: 29120 entries, 0 to 29119\n",
      "Data columns (total 7 columns):\n",
      " #   Column          Non-Null Count  Dtype  \n",
      "---  ------          --------------  -----  \n",
      " 0   id              29120 non-null  int64  \n",
      " 1   cost            29120 non-null  float64\n",
      " 2   category        29120 non-null  object \n",
      " 3   brand           29096 non-null  object \n",
      " 4   retail_price    29120 non-null  float64\n",
      " 5   department      29120 non-null  object \n",
      " 6   fulfillment_id  29120 non-null  int64  \n",
      "dtypes: float64(2), int64(2), object(3)\n",
      "memory usage: 1.6+ MB\n"
     ]
    }
   ],
   "source": [
    "items.info()"
   ]
  },
  {
   "cell_type": "code",
   "execution_count": 16,
   "id": "035f9526",
   "metadata": {},
   "outputs": [
    {
     "data": {
      "text/html": [
       "<div>\n",
       "<style scoped>\n",
       "    .dataframe tbody tr th:only-of-type {\n",
       "        vertical-align: middle;\n",
       "    }\n",
       "\n",
       "    .dataframe tbody tr th {\n",
       "        vertical-align: top;\n",
       "    }\n",
       "\n",
       "    .dataframe thead th {\n",
       "        text-align: right;\n",
       "    }\n",
       "</style>\n",
       "<table border=\"1\" class=\"dataframe\">\n",
       "  <thead>\n",
       "    <tr style=\"text-align: right;\">\n",
       "      <th></th>\n",
       "      <th>id</th>\n",
       "      <th>cost</th>\n",
       "      <th>retail_price</th>\n",
       "      <th>fulfillment_id</th>\n",
       "    </tr>\n",
       "  </thead>\n",
       "  <tbody>\n",
       "    <tr>\n",
       "      <th>count</th>\n",
       "      <td>29120.000000</td>\n",
       "      <td>29120.000000</td>\n",
       "      <td>29120.000000</td>\n",
       "      <td>29120.000000</td>\n",
       "    </tr>\n",
       "    <tr>\n",
       "      <th>mean</th>\n",
       "      <td>14560.500000</td>\n",
       "      <td>28.428148</td>\n",
       "      <td>59.220164</td>\n",
       "      <td>4.982898</td>\n",
       "    </tr>\n",
       "    <tr>\n",
       "      <th>std</th>\n",
       "      <td>8406.364256</td>\n",
       "      <td>30.627790</td>\n",
       "      <td>65.888927</td>\n",
       "      <td>2.901153</td>\n",
       "    </tr>\n",
       "    <tr>\n",
       "      <th>min</th>\n",
       "      <td>1.000000</td>\n",
       "      <td>-0.991700</td>\n",
       "      <td>0.020000</td>\n",
       "      <td>1.000000</td>\n",
       "    </tr>\n",
       "    <tr>\n",
       "      <th>25%</th>\n",
       "      <td>7280.750000</td>\n",
       "      <td>11.231200</td>\n",
       "      <td>24.000000</td>\n",
       "      <td>2.000000</td>\n",
       "    </tr>\n",
       "    <tr>\n",
       "      <th>50%</th>\n",
       "      <td>14560.500000</td>\n",
       "      <td>19.620575</td>\n",
       "      <td>39.990002</td>\n",
       "      <td>5.000000</td>\n",
       "    </tr>\n",
       "    <tr>\n",
       "      <th>75%</th>\n",
       "      <td>21840.250000</td>\n",
       "      <td>34.368412</td>\n",
       "      <td>69.949997</td>\n",
       "      <td>8.000000</td>\n",
       "    </tr>\n",
       "    <tr>\n",
       "      <th>max</th>\n",
       "      <td>29120.000000</td>\n",
       "      <td>557.451002</td>\n",
       "      <td>999.000000</td>\n",
       "      <td>10.000000</td>\n",
       "    </tr>\n",
       "  </tbody>\n",
       "</table>\n",
       "</div>"
      ],
      "text/plain": [
       "                 id          cost  retail_price  fulfillment_id\n",
       "count  29120.000000  29120.000000  29120.000000    29120.000000\n",
       "mean   14560.500000     28.428148     59.220164        4.982898\n",
       "std     8406.364256     30.627790     65.888927        2.901153\n",
       "min        1.000000     -0.991700      0.020000        1.000000\n",
       "25%     7280.750000     11.231200     24.000000        2.000000\n",
       "50%    14560.500000     19.620575     39.990002        5.000000\n",
       "75%    21840.250000     34.368412     69.949997        8.000000\n",
       "max    29120.000000    557.451002    999.000000       10.000000"
      ]
     },
     "execution_count": 16,
     "metadata": {},
     "output_type": "execute_result"
    }
   ],
   "source": [
    "items.describe()"
   ]
  },
  {
   "cell_type": "markdown",
   "id": "3e2c059f",
   "metadata": {},
   "source": [
    "### 2.6. orders dataset"
   ]
  },
  {
   "cell_type": "code",
   "execution_count": 17,
   "id": "9219b581",
   "metadata": {},
   "outputs": [
    {
     "data": {
      "text/html": [
       "<div>\n",
       "<style scoped>\n",
       "    .dataframe tbody tr th:only-of-type {\n",
       "        vertical-align: middle;\n",
       "    }\n",
       "\n",
       "    .dataframe tbody tr th {\n",
       "        vertical-align: top;\n",
       "    }\n",
       "\n",
       "    .dataframe thead th {\n",
       "        text-align: right;\n",
       "    }\n",
       "</style>\n",
       "<table border=\"1\" class=\"dataframe\">\n",
       "  <thead>\n",
       "    <tr style=\"text-align: right;\">\n",
       "      <th></th>\n",
       "      <th>order_id</th>\n",
       "      <th>cus_id</th>\n",
       "      <th>status</th>\n",
       "      <th>sex</th>\n",
       "      <th>created_at</th>\n",
       "      <th>returned_at</th>\n",
       "      <th>shipped_at</th>\n",
       "      <th>delivered_at</th>\n",
       "      <th>num_of_item</th>\n",
       "    </tr>\n",
       "  </thead>\n",
       "  <tbody>\n",
       "    <tr>\n",
       "      <th>0</th>\n",
       "      <td>1</td>\n",
       "      <td>1</td>\n",
       "      <td>Returned</td>\n",
       "      <td>Male</td>\n",
       "      <td>2019-06-04 10:10:00 UTC</td>\n",
       "      <td>2019-06-08 20:53:00 UTC</td>\n",
       "      <td>2019-06-05 17:14:00 UTC</td>\n",
       "      <td>2019-06-08 15:55:00 UTC</td>\n",
       "      <td>2</td>\n",
       "    </tr>\n",
       "    <tr>\n",
       "      <th>1</th>\n",
       "      <td>2</td>\n",
       "      <td>2</td>\n",
       "      <td>Processing</td>\n",
       "      <td>Female</td>\n",
       "      <td>2022-05-23 14:42:00 UTC</td>\n",
       "      <td>NaN</td>\n",
       "      <td>NaN</td>\n",
       "      <td>NaN</td>\n",
       "      <td>1</td>\n",
       "    </tr>\n",
       "    <tr>\n",
       "      <th>2</th>\n",
       "      <td>3</td>\n",
       "      <td>3</td>\n",
       "      <td>Complete</td>\n",
       "      <td>Male</td>\n",
       "      <td>2020-06-20 15:09:00 UTC</td>\n",
       "      <td>NaN</td>\n",
       "      <td>2020-06-21 12:14:00 UTC</td>\n",
       "      <td>2020-06-24 17:28:00 UTC</td>\n",
       "      <td>3</td>\n",
       "    </tr>\n",
       "    <tr>\n",
       "      <th>3</th>\n",
       "      <td>4</td>\n",
       "      <td>3</td>\n",
       "      <td>Complete</td>\n",
       "      <td>Male</td>\n",
       "      <td>2021-08-23 15:09:00 UTC</td>\n",
       "      <td>NaN</td>\n",
       "      <td>2021-08-26 07:58:00 UTC</td>\n",
       "      <td>2021-08-26 14:46:00 UTC</td>\n",
       "      <td>3</td>\n",
       "    </tr>\n",
       "    <tr>\n",
       "      <th>4</th>\n",
       "      <td>5</td>\n",
       "      <td>3</td>\n",
       "      <td>Shipped</td>\n",
       "      <td>Male</td>\n",
       "      <td>2021-07-01 15:09:00 UTC</td>\n",
       "      <td>NaN</td>\n",
       "      <td>2021-07-03 11:21:00 UTC</td>\n",
       "      <td>NaN</td>\n",
       "      <td>1</td>\n",
       "    </tr>\n",
       "  </tbody>\n",
       "</table>\n",
       "</div>"
      ],
      "text/plain": [
       "   order_id  cus_id      status     sex               created_at   \n",
       "0         1       1    Returned    Male  2019-06-04 10:10:00 UTC  \\\n",
       "1         2       2  Processing  Female  2022-05-23 14:42:00 UTC   \n",
       "2         3       3    Complete    Male  2020-06-20 15:09:00 UTC   \n",
       "3         4       3    Complete    Male  2021-08-23 15:09:00 UTC   \n",
       "4         5       3     Shipped    Male  2021-07-01 15:09:00 UTC   \n",
       "\n",
       "               returned_at               shipped_at             delivered_at   \n",
       "0  2019-06-08 20:53:00 UTC  2019-06-05 17:14:00 UTC  2019-06-08 15:55:00 UTC  \\\n",
       "1                      NaN                      NaN                      NaN   \n",
       "2                      NaN  2020-06-21 12:14:00 UTC  2020-06-24 17:28:00 UTC   \n",
       "3                      NaN  2021-08-26 07:58:00 UTC  2021-08-26 14:46:00 UTC   \n",
       "4                      NaN  2021-07-03 11:21:00 UTC                      NaN   \n",
       "\n",
       "   num_of_item  \n",
       "0            2  \n",
       "1            1  \n",
       "2            3  \n",
       "3            3  \n",
       "4            1  "
      ]
     },
     "execution_count": 17,
     "metadata": {},
     "output_type": "execute_result"
    }
   ],
   "source": [
    "orders.head()"
   ]
  },
  {
   "cell_type": "code",
   "execution_count": 18,
   "id": "0d2166a9",
   "metadata": {},
   "outputs": [
    {
     "name": "stdout",
     "output_type": "stream",
     "text": [
      "<class 'pandas.core.frame.DataFrame'>\n",
      "RangeIndex: 124923 entries, 0 to 124922\n",
      "Data columns (total 9 columns):\n",
      " #   Column        Non-Null Count   Dtype \n",
      "---  ------        --------------   ----- \n",
      " 0   order_id      124923 non-null  int64 \n",
      " 1   cus_id        124923 non-null  int64 \n",
      " 2   status        124923 non-null  object\n",
      " 3   sex           124923 non-null  object\n",
      " 4   created_at    124923 non-null  object\n",
      " 5   returned_at   12570 non-null   object\n",
      " 6   shipped_at    81252 non-null   object\n",
      " 7   delivered_at  43598 non-null   object\n",
      " 8   num_of_item   124923 non-null  int64 \n",
      "dtypes: int64(3), object(6)\n",
      "memory usage: 8.6+ MB\n"
     ]
    }
   ],
   "source": [
    "orders.info()"
   ]
  },
  {
   "cell_type": "code",
   "execution_count": 19,
   "id": "e31628e6",
   "metadata": {},
   "outputs": [
    {
     "data": {
      "text/html": [
       "<div>\n",
       "<style scoped>\n",
       "    .dataframe tbody tr th:only-of-type {\n",
       "        vertical-align: middle;\n",
       "    }\n",
       "\n",
       "    .dataframe tbody tr th {\n",
       "        vertical-align: top;\n",
       "    }\n",
       "\n",
       "    .dataframe thead th {\n",
       "        text-align: right;\n",
       "    }\n",
       "</style>\n",
       "<table border=\"1\" class=\"dataframe\">\n",
       "  <thead>\n",
       "    <tr style=\"text-align: right;\">\n",
       "      <th></th>\n",
       "      <th>order_id</th>\n",
       "      <th>cus_id</th>\n",
       "      <th>num_of_item</th>\n",
       "    </tr>\n",
       "  </thead>\n",
       "  <tbody>\n",
       "    <tr>\n",
       "      <th>count</th>\n",
       "      <td>124923.000000</td>\n",
       "      <td>124923.000000</td>\n",
       "      <td>124923.000000</td>\n",
       "    </tr>\n",
       "    <tr>\n",
       "      <th>mean</th>\n",
       "      <td>62462.000000</td>\n",
       "      <td>49851.135219</td>\n",
       "      <td>1.448508</td>\n",
       "    </tr>\n",
       "    <tr>\n",
       "      <th>std</th>\n",
       "      <td>36062.308176</td>\n",
       "      <td>28854.854077</td>\n",
       "      <td>0.803312</td>\n",
       "    </tr>\n",
       "    <tr>\n",
       "      <th>min</th>\n",
       "      <td>1.000000</td>\n",
       "      <td>1.000000</td>\n",
       "      <td>1.000000</td>\n",
       "    </tr>\n",
       "    <tr>\n",
       "      <th>25%</th>\n",
       "      <td>31231.500000</td>\n",
       "      <td>24894.500000</td>\n",
       "      <td>1.000000</td>\n",
       "    </tr>\n",
       "    <tr>\n",
       "      <th>50%</th>\n",
       "      <td>62462.000000</td>\n",
       "      <td>49796.000000</td>\n",
       "      <td>1.000000</td>\n",
       "    </tr>\n",
       "    <tr>\n",
       "      <th>75%</th>\n",
       "      <td>93692.500000</td>\n",
       "      <td>74870.500000</td>\n",
       "      <td>2.000000</td>\n",
       "    </tr>\n",
       "    <tr>\n",
       "      <th>max</th>\n",
       "      <td>124923.000000</td>\n",
       "      <td>100000.000000</td>\n",
       "      <td>4.000000</td>\n",
       "    </tr>\n",
       "  </tbody>\n",
       "</table>\n",
       "</div>"
      ],
      "text/plain": [
       "            order_id         cus_id    num_of_item\n",
       "count  124923.000000  124923.000000  124923.000000\n",
       "mean    62462.000000   49851.135219       1.448508\n",
       "std     36062.308176   28854.854077       0.803312\n",
       "min         1.000000       1.000000       1.000000\n",
       "25%     31231.500000   24894.500000       1.000000\n",
       "50%     62462.000000   49796.000000       1.000000\n",
       "75%     93692.500000   74870.500000       2.000000\n",
       "max    124923.000000  100000.000000       4.000000"
      ]
     },
     "execution_count": 19,
     "metadata": {},
     "output_type": "execute_result"
    }
   ],
   "source": [
    "orders.describe()"
   ]
  },
  {
   "cell_type": "markdown",
   "id": "7743a128",
   "metadata": {},
   "source": [
    "### 2.7. order_details dataset"
   ]
  },
  {
   "cell_type": "code",
   "execution_count": 20,
   "id": "da32081f",
   "metadata": {},
   "outputs": [
    {
     "data": {
      "text/html": [
       "<div>\n",
       "<style scoped>\n",
       "    .dataframe tbody tr th:only-of-type {\n",
       "        vertical-align: middle;\n",
       "    }\n",
       "\n",
       "    .dataframe tbody tr th {\n",
       "        vertical-align: top;\n",
       "    }\n",
       "\n",
       "    .dataframe thead th {\n",
       "        text-align: right;\n",
       "    }\n",
       "</style>\n",
       "<table border=\"1\" class=\"dataframe\">\n",
       "  <thead>\n",
       "    <tr style=\"text-align: right;\">\n",
       "      <th></th>\n",
       "      <th>id</th>\n",
       "      <th>order_id</th>\n",
       "      <th>item_id</th>\n",
       "      <th>inventory_id</th>\n",
       "      <th>sale_price</th>\n",
       "    </tr>\n",
       "  </thead>\n",
       "  <tbody>\n",
       "    <tr>\n",
       "      <th>0</th>\n",
       "      <td>15721</td>\n",
       "      <td>10826</td>\n",
       "      <td>13606</td>\n",
       "      <td>42278</td>\n",
       "      <td>2.5</td>\n",
       "    </tr>\n",
       "    <tr>\n",
       "      <th>1</th>\n",
       "      <td>19167</td>\n",
       "      <td>13243</td>\n",
       "      <td>13606</td>\n",
       "      <td>51560</td>\n",
       "      <td>2.5</td>\n",
       "    </tr>\n",
       "    <tr>\n",
       "      <th>2</th>\n",
       "      <td>77007</td>\n",
       "      <td>53140</td>\n",
       "      <td>13606</td>\n",
       "      <td>207367</td>\n",
       "      <td>2.5</td>\n",
       "    </tr>\n",
       "    <tr>\n",
       "      <th>3</th>\n",
       "      <td>151639</td>\n",
       "      <td>104681</td>\n",
       "      <td>13606</td>\n",
       "      <td>408715</td>\n",
       "      <td>2.5</td>\n",
       "    </tr>\n",
       "    <tr>\n",
       "      <th>4</th>\n",
       "      <td>170817</td>\n",
       "      <td>117931</td>\n",
       "      <td>13606</td>\n",
       "      <td>460556</td>\n",
       "      <td>2.5</td>\n",
       "    </tr>\n",
       "  </tbody>\n",
       "</table>\n",
       "</div>"
      ],
      "text/plain": [
       "       id  order_id  item_id  inventory_id  sale_price\n",
       "0   15721     10826    13606         42278         2.5\n",
       "1   19167     13243    13606         51560         2.5\n",
       "2   77007     53140    13606        207367         2.5\n",
       "3  151639    104681    13606        408715         2.5\n",
       "4  170817    117931    13606        460556         2.5"
      ]
     },
     "execution_count": 20,
     "metadata": {},
     "output_type": "execute_result"
    }
   ],
   "source": [
    "order_details.head()"
   ]
  },
  {
   "cell_type": "code",
   "execution_count": 21,
   "id": "a36a975e",
   "metadata": {},
   "outputs": [
    {
     "name": "stdout",
     "output_type": "stream",
     "text": [
      "<class 'pandas.core.frame.DataFrame'>\n",
      "RangeIndex: 180952 entries, 0 to 180951\n",
      "Data columns (total 5 columns):\n",
      " #   Column        Non-Null Count   Dtype  \n",
      "---  ------        --------------   -----  \n",
      " 0   id            180952 non-null  int64  \n",
      " 1   order_id      180952 non-null  int64  \n",
      " 2   item_id       180952 non-null  int64  \n",
      " 3   inventory_id  180952 non-null  int64  \n",
      " 4   sale_price    180952 non-null  float64\n",
      "dtypes: float64(1), int64(4)\n",
      "memory usage: 6.9 MB\n"
     ]
    }
   ],
   "source": [
    "order_details.info()"
   ]
  },
  {
   "cell_type": "code",
   "execution_count": 22,
   "id": "fb8ef1c9",
   "metadata": {},
   "outputs": [
    {
     "data": {
      "text/html": [
       "<div>\n",
       "<style scoped>\n",
       "    .dataframe tbody tr th:only-of-type {\n",
       "        vertical-align: middle;\n",
       "    }\n",
       "\n",
       "    .dataframe tbody tr th {\n",
       "        vertical-align: top;\n",
       "    }\n",
       "\n",
       "    .dataframe thead th {\n",
       "        text-align: right;\n",
       "    }\n",
       "</style>\n",
       "<table border=\"1\" class=\"dataframe\">\n",
       "  <thead>\n",
       "    <tr style=\"text-align: right;\">\n",
       "      <th></th>\n",
       "      <th>id</th>\n",
       "      <th>order_id</th>\n",
       "      <th>item_id</th>\n",
       "      <th>inventory_id</th>\n",
       "      <th>sale_price</th>\n",
       "    </tr>\n",
       "  </thead>\n",
       "  <tbody>\n",
       "    <tr>\n",
       "      <th>count</th>\n",
       "      <td>180952.000000</td>\n",
       "      <td>180952.000000</td>\n",
       "      <td>180952.000000</td>\n",
       "      <td>180952.000000</td>\n",
       "      <td>180952.000000</td>\n",
       "    </tr>\n",
       "    <tr>\n",
       "      <th>mean</th>\n",
       "      <td>90476.500000</td>\n",
       "      <td>62447.517938</td>\n",
       "      <td>15293.072019</td>\n",
       "      <td>243775.026195</td>\n",
       "      <td>59.457094</td>\n",
       "    </tr>\n",
       "    <tr>\n",
       "      <th>std</th>\n",
       "      <td>52236.487293</td>\n",
       "      <td>36063.174088</td>\n",
       "      <td>8426.555347</td>\n",
       "      <td>140846.109057</td>\n",
       "      <td>65.545107</td>\n",
       "    </tr>\n",
       "    <tr>\n",
       "      <th>min</th>\n",
       "      <td>1.000000</td>\n",
       "      <td>1.000000</td>\n",
       "      <td>1.000000</td>\n",
       "      <td>3.000000</td>\n",
       "      <td>0.020000</td>\n",
       "    </tr>\n",
       "    <tr>\n",
       "      <th>25%</th>\n",
       "      <td>45238.750000</td>\n",
       "      <td>31231.750000</td>\n",
       "      <td>7996.750000</td>\n",
       "      <td>121742.250000</td>\n",
       "      <td>24.500000</td>\n",
       "    </tr>\n",
       "    <tr>\n",
       "      <th>50%</th>\n",
       "      <td>90476.500000</td>\n",
       "      <td>62405.000000</td>\n",
       "      <td>16028.000000</td>\n",
       "      <td>243722.500000</td>\n",
       "      <td>39.990002</td>\n",
       "    </tr>\n",
       "    <tr>\n",
       "      <th>75%</th>\n",
       "      <td>135714.250000</td>\n",
       "      <td>93695.000000</td>\n",
       "      <td>22576.250000</td>\n",
       "      <td>365802.500000</td>\n",
       "      <td>69.949997</td>\n",
       "    </tr>\n",
       "    <tr>\n",
       "      <th>max</th>\n",
       "      <td>180952.000000</td>\n",
       "      <td>124923.000000</td>\n",
       "      <td>29120.000000</td>\n",
       "      <td>487901.000000</td>\n",
       "      <td>999.000000</td>\n",
       "    </tr>\n",
       "  </tbody>\n",
       "</table>\n",
       "</div>"
      ],
      "text/plain": [
       "                  id       order_id        item_id   inventory_id   \n",
       "count  180952.000000  180952.000000  180952.000000  180952.000000  \\\n",
       "mean    90476.500000   62447.517938   15293.072019  243775.026195   \n",
       "std     52236.487293   36063.174088    8426.555347  140846.109057   \n",
       "min         1.000000       1.000000       1.000000       3.000000   \n",
       "25%     45238.750000   31231.750000    7996.750000  121742.250000   \n",
       "50%     90476.500000   62405.000000   16028.000000  243722.500000   \n",
       "75%    135714.250000   93695.000000   22576.250000  365802.500000   \n",
       "max    180952.000000  124923.000000   29120.000000  487901.000000   \n",
       "\n",
       "          sale_price  \n",
       "count  180952.000000  \n",
       "mean       59.457094  \n",
       "std        65.545107  \n",
       "min         0.020000  \n",
       "25%        24.500000  \n",
       "50%        39.990002  \n",
       "75%        69.949997  \n",
       "max       999.000000  "
      ]
     },
     "execution_count": 22,
     "metadata": {},
     "output_type": "execute_result"
    }
   ],
   "source": [
    "order_details.describe()"
   ]
  },
  {
   "cell_type": "markdown",
   "id": "ec8a2ef6",
   "metadata": {},
   "source": [
    "## 3. Data cleaning"
   ]
  },
  {
   "cell_type": "markdown",
   "id": "9b995100",
   "metadata": {},
   "source": [
    "### 3.1. Find the missing cities in \"customers\" dataset"
   ]
  },
  {
   "cell_type": "markdown",
   "id": "7a883a00",
   "metadata": {},
   "source": [
    "We found that there are 962 missing values in the ***city*** column of the ***customers*** dataset. We use the longtitude and latitude in the **lat** and **long** column to get the city's names."
   ]
  },
  {
   "cell_type": "code",
   "execution_count": 23,
   "id": "2593482f",
   "metadata": {
    "scrolled": true
   },
   "outputs": [],
   "source": [
    "from geopy.geocoders import Nominatim\n",
    "from geopy.exc import GeocoderTimedOut\n",
    "import time\n",
    "\n",
    "# Initialize the geocoder\n",
    "geolocator = Nominatim(user_agent=\"my_app\")\n",
    "\n",
    "# Function to perform reverse geocoding with retry\n",
    "def reverse_geocode_with_retry(lat, lon):\n",
    "    try:\n",
    "        location = geolocator.reverse((lat, lon), exactly_one=True)\n",
    "        return location\n",
    "    except GeocoderTimedOut:\n",
    "        # Retry after a delay\n",
    "        time.sleep(1)\n",
    "        return reverse_geocode_with_retry(lat, lon)\n",
    "\n",
    "# Load the dataset into a DataFrame\n",
    "customers = pd.read_csv(\"customers.csv\")\n",
    "\n",
    "# Iterate over the rows of the DataFrame\n",
    "for index, row in customers.iterrows():\n",
    "    if pd.isnull(row['city']):  # Check if the city is missing\n",
    "        lat = row['lat']\n",
    "        lon = row['long']\n",
    "        \n",
    "        # Perform reverse geocoding with retry\n",
    "        location = reverse_geocode_with_retry(lat, lon)\n",
    "        \n",
    "        # Extract the city name from the location\n",
    "        city = location.raw['address'].get('city', '')\n",
    "        \n",
    "        # Replace the missing city value in the DataFrame\n",
    "        customers.at[index, 'city'] = city"
   ]
  },
  {
   "cell_type": "code",
   "execution_count": 24,
   "id": "0fbef0dc",
   "metadata": {},
   "outputs": [
    {
     "name": "stdout",
     "output_type": "stream",
     "text": [
      "<class 'pandas.core.frame.DataFrame'>\n",
      "RangeIndex: 100000 entries, 0 to 99999\n",
      "Data columns (total 11 columns):\n",
      " #   Column       Non-Null Count   Dtype  \n",
      "---  ------       --------------   -----  \n",
      " 0   id           100000 non-null  int64  \n",
      " 1   age          100000 non-null  int64  \n",
      " 2   sex          100000 non-null  object \n",
      " 3   state        100000 non-null  object \n",
      " 4   postal       100000 non-null  object \n",
      " 5   city         100000 non-null  object \n",
      " 6   country      100000 non-null  object \n",
      " 7   lat          100000 non-null  float64\n",
      " 8   long         100000 non-null  float64\n",
      " 9   traffic_src  100000 non-null  object \n",
      " 10  created_at   100000 non-null  object \n",
      "dtypes: float64(2), int64(2), object(7)\n",
      "memory usage: 8.4+ MB\n"
     ]
    }
   ],
   "source": [
    "customers.info()"
   ]
  },
  {
   "cell_type": "markdown",
   "id": "e26dfb00",
   "metadata": {},
   "source": [
    "You can observe that there is **no longer null values** in the city column. \n",
    "\n",
    "Now, we will check some rows to see that if the city's names are correct.\n",
    "\n",
    "We retrive 5 rows corresponding with **5 ids that contain null values from the initial dataset**."
   ]
  },
  {
   "cell_type": "code",
   "execution_count": 25,
   "id": "3116e3af",
   "metadata": {},
   "outputs": [
    {
     "name": "stdout",
     "output_type": "stream",
     "text": [
      "   id      city     country\n",
      "92807 Barcelona       Spain\n",
      "98517       창원시 South Korea\n",
      "35139       창원시 South Korea\n",
      " 8037    Murcia       Spain\n",
      "66604    Getafe       Spain\n"
     ]
    }
   ],
   "source": [
    "# Filter the DataFrame based on the id value\n",
    "filtered_customers = customers[customers[\"id\"].isin([8037, 35139, 66604, 92807, 98517])]\n",
    "\n",
    "# Select specific columns for the output\n",
    "selected_columns = [\"id\", \"city\", \"country\"]\n",
    "\n",
    "# Format the output for better readability\n",
    "pd.set_option(\"display.max_columns\", None)  # Display all columns\n",
    "pd.set_option(\"display.width\", None)  # Remove column wrapping\n",
    "\n",
    "# View the filtered rows with selected columns\n",
    "print(filtered_customers[selected_columns].to_string(index=False))"
   ]
  },
  {
   "cell_type": "markdown",
   "id": "6e166033",
   "metadata": {},
   "source": [
    "As you can see, we have got the expected results. All the city's names matched with the **country**."
   ]
  },
  {
   "cell_type": "markdown",
   "id": "ef4fdcfd",
   "metadata": {},
   "source": [
    "### 3.2. Remove the negative sign in \"cost\" column of \"items\" dataset"
   ]
  },
  {
   "cell_type": "markdown",
   "id": "e6a55aec",
   "metadata": {},
   "source": [
    "We noticed that there are some negative values in the **cost** column of the **items** dataset. Maybe it is a **typography error**. We will remove the negative sign from those errors."
   ]
  },
  {
   "cell_type": "code",
   "execution_count": 26,
   "id": "4da9a79e",
   "metadata": {
    "scrolled": true
   },
   "outputs": [
    {
     "name": "stdout",
     "output_type": "stream",
     "text": [
      "   id    cost    category   brand  retail_price department  fulfillment_id\n",
      "14235 0.99170 Accessories marshal          0.02      Women               1\n",
      "13659 0.15016 Accessories    Star          1.82      Women               2\n",
      "14202 0.38200 Accessories     H2W          1.50      Women               4\n"
     ]
    }
   ],
   "source": [
    "# Remove the negative sign from the 'cost' column\n",
    "items['cost'] = items['cost'].abs()\n",
    "\n",
    "# Display the updated DataFrame\n",
    "# Filter the DataFrame based on the id value\n",
    "filtered_items = items[items[\"id\"].isin([13659, 14235, 14202])]\n",
    "\n",
    "# Format the output for better readability\n",
    "pd.set_option(\"display.max_columns\", None)  # Display all columns\n",
    "pd.set_option(\"display.width\", None)  # Remove column wrapping\n",
    "\n",
    "# View the filtered rows with selected columns\n",
    "print(filtered_items.to_string(index=False))"
   ]
  },
  {
   "cell_type": "markdown",
   "id": "8c889402",
   "metadata": {},
   "source": [
    "The errors have been completely removed."
   ]
  },
  {
   "cell_type": "markdown",
   "id": "5304cf04",
   "metadata": {},
   "source": [
    "### 3.3. Convert the wrong format column to appropriate format"
   ]
  },
  {
   "cell_type": "markdown",
   "id": "7d1b752b",
   "metadata": {},
   "source": [
    "We discovered that some columns are recorded as text although the record in each cell are date and time. We will convert all of them into **datetime** format for further analysis."
   ]
  },
  {
   "cell_type": "code",
   "execution_count": 27,
   "id": "76cdddd7",
   "metadata": {},
   "outputs": [],
   "source": [
    "customers['created_at'] = pd.to_datetime(customers['created_at'], format='mixed')\n",
    "events['created_at'] = pd.to_datetime(events['created_at'], format='mixed')\n",
    "inventory['created_at'] = pd.to_datetime(inventory['created_at'], format='mixed')\n",
    "inventory['sold_at'] = pd.to_datetime(inventory['sold_at'], format='mixed')\n",
    "orders['created_at'] = pd.to_datetime(orders['created_at'], format='mixed')\n",
    "orders['returned_at'] = pd.to_datetime(orders['returned_at'], format='mixed')\n",
    "orders['shipped_at'] = pd.to_datetime(orders['shipped_at'], format='mixed')\n",
    "orders['delivered_at'] = pd.to_datetime(orders['delivered_at'], format='mixed')"
   ]
  },
  {
   "cell_type": "markdown",
   "id": "f35b6ff7",
   "metadata": {},
   "source": [
    "## 4. Modelling"
   ]
  },
  {
   "cell_type": "markdown",
   "id": "395e3924",
   "metadata": {},
   "source": [
    "### 4.1. Forecast the Average Revenue for the next 12 months"
   ]
  },
  {
   "cell_type": "markdown",
   "id": "62356521",
   "metadata": {},
   "source": [
    "In order to forecast the Average Revenue for the next 12 months, we must have time-series data. So, we create a dataset named **average_monthly_revenue** from the provided datasets. We have already created the dataset so the underneath lines of code, we don't need to run the code again."
   ]
  },
  {
   "cell_type": "code",
   "execution_count": 33,
   "id": "bff76dc6",
   "metadata": {},
   "outputs": [],
   "source": [
    "###### Already done !\n",
    "\n",
    "## Merge the necessary datasets\n",
    "#merged_data = pd.merge(orders, order_details, on=\"order_id\")\n",
    "#merged_data = pd.merge(merged_data, items, left_on=\"item_id\", right_on=\"id\")\n",
    "\n",
    "## Filter out rows with status \"Returned\"\n",
    "#merged_data_filtered = merged_data[merged_data['status'] != 'Returned']\n",
    "\n",
    "## Set 'created_at' column as the index, excluding the time\n",
    "#merged_data_filtered.set_index(merged_data_filtered['created_at'].dt.date, inplace=True)\n",
    "#merged_data_filtered.index = pd.to_datetime(merged_data_filtered.index)\n",
    "\n",
    "## Calculate the daily revenue\n",
    "#daily_revenue = merged_data_filtered.resample('D')['sale_price'].sum().round(2)\n",
    "\n",
    "## Resample the daily revenue to monthly frequency and calculate the average\n",
    "#average_monthly_revenue = daily_revenue.resample('M').mean().round(2)\n",
    "\n",
    "## Create a DataFrame with \"date\" and \"revenue\" columns\n",
    "#output_data = pd.DataFrame({'date': average_monthly_revenue.index, 'revenue': average_monthly_revenue.values})\n",
    "\n",
    "## Save the DataFrame as a CSV file\n",
    "#output_data.to_csv('average_monthly_revenue.csv', index=False)"
   ]
  },
  {
   "cell_type": "code",
   "execution_count": 34,
   "id": "46f5b06c",
   "metadata": {},
   "outputs": [],
   "source": [
    "# Load the dataset\n",
    "monthly_revenue = pd.read_csv('average_monthly_revenue.csv')\n",
    "df = pd.DataFrame(monthly_revenue)\n",
    "df['date'] = pd.to_datetime(df['date'])\n",
    "df.set_index('date', inplace=True)\n",
    "\n",
    "import matplotlib.pyplot as plt\n",
    "%matplotlib inline"
   ]
  },
  {
   "cell_type": "markdown",
   "id": "8c17f1a6",
   "metadata": {},
   "source": [
    "### Seasonality Check"
   ]
  },
  {
   "cell_type": "code",
   "execution_count": 35,
   "id": "9257ab95",
   "metadata": {},
   "outputs": [
    {
     "data": {
      "text/plain": [
       "<Axes: >"
      ]
     },
     "execution_count": 35,
     "metadata": {},
     "output_type": "execute_result"
    },
    {
     "data": {
      "image/png": "[encoded data removed]",
      "text/plain": [
       "<Figure size 640x480 with 1 Axes>"
      ]
     },
     "metadata": {},
     "output_type": "display_data"
    }
   ],
   "source": [
    "monthly_revenue.plot()"
   ]
  },
  {
   "cell_type": "markdown",
   "id": "d6231588",
   "metadata": {},
   "source": [
    "As you can observe from the chart, the dataset is completely **non-seasonal**. Because the ARMA and ARIMA model have been remove from Python, we will use the SARIMAX model and eliminate the seasonal components."
   ]
  },
  {
   "cell_type": "markdown",
   "id": "495b7d3c",
   "metadata": {},
   "source": [
    "### Stationary check"
   ]
  },
  {
   "cell_type": "markdown",
   "id": "bf1877c8",
   "metadata": {},
   "source": [
    "The SARIMAX will provide accurate forecast when the dataset is *stationary*\n",
    "\n",
    "We will check if the series is stationary using the **Augmented Dickey Fuller test (ADF Test)**, from the statsmodels package. The reason being is that we need differencing only if the series is non-stationary. Else, no differencing is needed, that is, d=0.\n",
    "\n",
    "The **null hypothesis (Ho)** of the ADF test is that the time series is **non-stationary**. So, if the p-value of the test is less than the significance level (0.05) then we reject the null hypothesis and infer that the time series is indeed stationary. If P Value > 0.05, accept the null hypothesis and go ahead with finding the order of differencing."
   ]
  },
  {
   "cell_type": "code",
   "execution_count": 36,
   "id": "63a7af5c",
   "metadata": {},
   "outputs": [
    {
     "name": "stdout",
     "output_type": "stream",
     "text": [
      "ADF Statistic: -3.220334\n",
      "p-value: 0.018837\n"
     ]
    }
   ],
   "source": [
    "from statsmodels.tsa.stattools import adfuller\n",
    "result = adfuller(monthly_revenue['revenue'].dropna())\n",
    "print('ADF Statistic: %f' % result[0])\n",
    "print('p-value: %f' % result[1])"
   ]
  },
  {
   "cell_type": "markdown",
   "id": "01956b5b",
   "metadata": {},
   "source": [
    "As p-value < 0.05, therefore our dataset is **stationary**. We do not have to differentiate the series."
   ]
  },
  {
   "cell_type": "markdown",
   "id": "e1434122",
   "metadata": {},
   "source": [
    "### Choose the best model"
   ]
  },
  {
   "cell_type": "markdown",
   "id": "c457520f",
   "metadata": {},
   "source": [
    "In Python, the pmdarima package provides **auto_arima()** function which can be used to automate the process of SARIMAX Forecasting in Python.\n",
    "\n",
    "**auto_arima()** uses a stepwise approach to search multiple combinations of **p,d,q parameters** and chooses the best model that has the least AIC."
   ]
  },
  {
   "cell_type": "code",
   "execution_count": 37,
   "id": "a697f48b",
   "metadata": {
    "scrolled": false
   },
   "outputs": [
    {
     "name": "stdout",
     "output_type": "stream",
     "text": [
      "Performing stepwise search to minimize aic\n",
      " ARIMA(1,2,1)(0,0,0)[0] intercept   : AIC=633.710, Time=0.09 sec\n",
      " ARIMA(0,2,0)(0,0,0)[0] intercept   : AIC=633.591, Time=0.00 sec\n",
      " ARIMA(1,2,0)(0,0,0)[0] intercept   : AIC=634.147, Time=0.01 sec\n",
      " ARIMA(0,2,1)(0,0,0)[0] intercept   : AIC=634.882, Time=0.03 sec\n",
      " ARIMA(0,2,0)(0,0,0)[0]             : AIC=633.869, Time=0.01 sec\n",
      "\n",
      "Best model:  ARIMA(0,2,0)(0,0,0)[0] intercept\n",
      "Total fit time: 0.158 seconds\n",
      "                               SARIMAX Results                                \n",
      "==============================================================================\n",
      "Dep. Variable:                      y   No. Observations:                   41\n",
      "Model:               SARIMAX(0, 2, 0)   Log Likelihood                -314.795\n",
      "Date:                Sun, 18 Jun 2023   AIC                            633.591\n",
      "Time:                        15:08:35   BIC                            636.918\n",
      "Sample:                             0   HQIC                           634.785\n",
      "                                 - 41                                         \n",
      "Covariance Type:                  opg                                         \n",
      "==============================================================================\n",
      "                 coef    std err          z      P>|z|      [0.025      0.975]\n",
      "------------------------------------------------------------------------------\n",
      "intercept    190.0603    234.493      0.811      0.418    -269.538     649.658\n",
      "sigma2      6.005e+05   8.71e+04      6.896      0.000     4.3e+05    7.71e+05\n",
      "===================================================================================\n",
      "Ljung-Box (L1) (Q):                   0.48   Jarque-Bera (JB):               467.81\n",
      "Prob(Q):                              0.49   Prob(JB):                         0.00\n",
      "Heteroskedasticity (H):              35.44   Skew:                             3.54\n",
      "Prob(H) (two-sided):                  0.00   Kurtosis:                        18.42\n",
      "===================================================================================\n",
      "\n",
      "Warnings:\n",
      "[1] Covariance matrix calculated using the outer product of gradients (complex-step).\n"
     ]
    }
   ],
   "source": [
    "from statsmodels.tsa.arima_model import ARIMA\n",
    "\n",
    "import pmdarima as pm\n",
    "\n",
    "model = pm.auto_arima(monthly_revenue['revenue'], start_p=1, start_q=1,\n",
    "                      test='adf',       # use adftest to find optimal 'd'\n",
    "                      max_p=3, max_q=3, # maximum p and q\n",
    "                      m=1,              # frequency of series\n",
    "                      d=None,           # let model determine 'd'\n",
    "                      seasonal=False,   # No Seasonality\n",
    "                      start_P=0, \n",
    "                      D=0, \n",
    "                      trace=True,\n",
    "                      error_action='ignore',  \n",
    "                      suppress_warnings=True, \n",
    "                      stepwise=True)\n",
    "\n",
    "print(model.summary())"
   ]
  },
  {
   "cell_type": "markdown",
   "id": "95068728",
   "metadata": {},
   "source": [
    "We can observe that SARIMAX(0, 2, 0) is the best model. Now, we will check if the model is a good fit."
   ]
  },
  {
   "cell_type": "markdown",
   "id": "63ef53cb",
   "metadata": {},
   "source": [
    "### Residual plot diagnostics"
   ]
  },
  {
   "cell_type": "code",
   "execution_count": 38,
   "id": "2ac9db58",
   "metadata": {
    "scrolled": false
   },
   "outputs": [
    {
     "data": {
      "image/png": "[encoded data removed]",
      "text/plain": [
       "<Figure size 1000x800 with 4 Axes>"
      ]
     },
     "metadata": {},
     "output_type": "display_data"
    }
   ],
   "source": [
    "model.plot_diagnostics(figsize=(10,8))\n",
    "plt.show()"
   ]
  },
  {
   "cell_type": "markdown",
   "id": "6e3077fb",
   "metadata": {},
   "source": [
    "**Standardized residual**: The residual errors seem to fluctuate around a mean of zero and have a uniform variance.\n",
    "\n",
    "**Histogram**: The density plot suggest normal distribution with mean slighlty shifted towards right.\n",
    "\n",
    "**Theoretical Quantiles**: Mostly the dots fall almost perfectly in line with the red line. Any significant deviations would imply the distribution is skewed.\n",
    "\n",
    "**Correlogram**: The Correlogram, (or ACF plot) shows the residual errors are not autocorrelated. The ACF plot would imply that there is some pattern in the residual errors which are not explained in the model. So we will need to look for more X’s (predictors) to the model.\n",
    "\n",
    "**Overall, the model seems to be a good fit. So, let's use it to forecast.**"
   ]
  },
  {
   "cell_type": "markdown",
   "id": "e845363d",
   "metadata": {},
   "source": [
    "### Forecasting for the next 12 months"
   ]
  },
  {
   "cell_type": "code",
   "execution_count": 39,
   "id": "7a3c143a",
   "metadata": {
    "scrolled": false
   },
   "outputs": [
    {
     "data": {
      "image/png": "[encoded data removed]",
      "text/plain": [
       "<Figure size 1200x600 with 1 Axes>"
      ]
     },
     "metadata": {},
     "output_type": "display_data"
    }
   ],
   "source": [
    "from statsmodels.tsa.arima.model import ARIMA\n",
    "\n",
    "df.index.freq = 'M'  # Set the frequency to monthly ('M')\n",
    "\n",
    "# Fit the ARIMA model to the dataset\n",
    "model = ARIMA(df['revenue'], order=(0, 2, 0))\n",
    "model_fit = model.fit()\n",
    "\n",
    "# Forecast the next 12 months\n",
    "n_pred_previous = 10\n",
    "forecast_start_date = df.index[-1] + pd.DateOffset(months=1)\n",
    "forecast_end_date = forecast_start_date + pd.DateOffset(months=n_pred_previous)\n",
    "forecast = model_fit.get_prediction(start=forecast_start_date, end=forecast_end_date)\n",
    "forecast_values = forecast.predicted_mean\n",
    "confint = forecast.conf_int()\n",
    "\n",
    "# Create series for fitted values and confidence intervals\n",
    "fitted_series = pd.Series(forecast_values, index=forecast_values.index)\n",
    "lower = confint.iloc[:, 0]\n",
    "upper = confint.iloc[:, 1]\n",
    "\n",
    "# Plot the forecasted revenue\n",
    "plt.figure(figsize=(12, 6))\n",
    "plt.plot(df.index[-360:], df['revenue'][-360:], label='Actual', color='blue', linewidth=2)\n",
    "plt.plot(fitted_series, color='red', linestyle='--', label='Forecast', linewidth=2)\n",
    "plt.fill_between(forecast_values.index, lower, upper, color='grey', alpha=0.2)\n",
    "plt.ylim((0, 130000))\n",
    "plt.xlabel('Date')\n",
    "plt.ylabel('Revenue')\n",
    "plt.title('Average Revenue Forecast for Next 12 Months')\n",
    "plt.legend(loc='upper left')\n",
    "plt.grid(True)\n",
    "plt.tight_layout()\n",
    "plt.show()"
   ]
  },
  {
   "cell_type": "markdown",
   "id": "0ac64dfd",
   "metadata": {},
   "source": [
    "### 4.2. Customer Segmentation using RFM and K-means model"
   ]
  },
  {
   "cell_type": "code",
   "execution_count": 40,
   "id": "443d17b2",
   "metadata": {},
   "outputs": [],
   "source": [
    "# import the necessary libraries\n",
    "from sklearn.cluster import KMeans\n",
    "from sklearn.impute import KNNImputer"
   ]
  },
  {
   "cell_type": "code",
   "execution_count": 41,
   "id": "3167bd15",
   "metadata": {},
   "outputs": [],
   "source": [
    "# Collect data from order and order_details to build RFM matrix\n",
    "order_merged = pd.merge(order_details[['order_id', 'sale_price']], orders[['order_id', 'cus_id', 'num_of_item', 'created_at', 'status']], on = ['order_id'])\n",
    "cluster_data = pd.merge(order_merged, customers[['id','age', 'sex', 'country', 'traffic_src']], left_on = ['cus_id'], right_on = ['id']).drop('id', axis = 1)\n",
    "cluster_data['order_value'] = cluster_data.sale_price*cluster_data.num_of_item"
   ]
  },
  {
   "cell_type": "code",
   "execution_count": 42,
   "id": "6a8cd457",
   "metadata": {},
   "outputs": [],
   "source": [
    "# Select the 'Complete' status\n",
    "cluster_data = cluster_data[cluster_data.status == 'Complete']"
   ]
  },
  {
   "cell_type": "code",
   "execution_count": 43,
   "id": "3f032237",
   "metadata": {},
   "outputs": [],
   "source": [
    "# Turn column 'created_at' from object to datetime\n",
    "cluster_data.created_at = pd.to_datetime(cluster_data.created_at)"
   ]
  },
  {
   "cell_type": "code",
   "execution_count": 44,
   "id": "222eacbf",
   "metadata": {},
   "outputs": [
    {
     "data": {
      "text/plain": [
       "order_id       45010\n",
       "sale_price     45010\n",
       "cus_id         45010\n",
       "num_of_item    45010\n",
       "created_at     45010\n",
       "status         45010\n",
       "age            45010\n",
       "sex            45010\n",
       "country        45010\n",
       "traffic_src    45010\n",
       "order_value    45010\n",
       "dtype: int64"
      ]
     },
     "execution_count": 44,
     "metadata": {},
     "output_type": "execute_result"
    }
   ],
   "source": [
    "cluster_data.count()"
   ]
  },
  {
   "cell_type": "code",
   "execution_count": 45,
   "id": "0cf3b088",
   "metadata": {},
   "outputs": [],
   "source": [
    "import datetime\n",
    "current_date = max(cluster_data['created_at']) + datetime.timedelta(days=1)\n",
    "\n",
    "# Group by CustomerID to calculate Recency, Frequency, MonetaryValue\n",
    "\n",
    "df_customers = cluster_data.groupby(['cus_id']).agg(\n",
    "    {'created_at': lambda x: (current_date- x.max()).days,\n",
    "     'order_id':'count',\n",
    "     'order_value':'sum'\n",
    "     }\n",
    ")\n",
    "df_customers.rename(columns={'created_at':'Recency','order_id':'Frequency','order_value':'MonetaryValue'}, inplace=True)"
   ]
  },
  {
   "cell_type": "code",
   "execution_count": 46,
   "id": "7f7a838a",
   "metadata": {},
   "outputs": [
    {
     "name": "stderr",
     "output_type": "stream",
     "text": [
      "C:\\Users\\HP\\AppData\\Local\\Temp\\ipykernel_3208\\3333777419.py:4: UserWarning: \n",
      "\n",
      "`distplot` is a deprecated function and will be removed in seaborn v0.14.0.\n",
      "\n",
      "Please adapt your code to use either `displot` (a figure-level function with\n",
      "similar flexibility) or `histplot` (an axes-level function for histograms).\n",
      "\n",
      "For a guide to updating your code to use the new functions, please see\n",
      "https://gist.github.com/mwaskom/de44147ed2974457ad6372750bbe5751\n",
      "\n",
      "  sns.distplot(df_customers['Recency'], ax = ax[0])\n",
      "C:\\Users\\HP\\AppData\\Local\\Temp\\ipykernel_3208\\3333777419.py:5: UserWarning: \n",
      "\n",
      "`distplot` is a deprecated function and will be removed in seaborn v0.14.0.\n",
      "\n",
      "Please adapt your code to use either `displot` (a figure-level function with\n",
      "similar flexibility) or `histplot` (an axes-level function for histograms).\n",
      "\n",
      "For a guide to updating your code to use the new functions, please see\n",
      "https://gist.github.com/mwaskom/de44147ed2974457ad6372750bbe5751\n",
      "\n",
      "  sns.distplot(df_customers['Frequency'], ax = ax[1])\n",
      "C:\\Users\\HP\\AppData\\Local\\Temp\\ipykernel_3208\\3333777419.py:6: UserWarning: \n",
      "\n",
      "`distplot` is a deprecated function and will be removed in seaborn v0.14.0.\n",
      "\n",
      "Please adapt your code to use either `displot` (a figure-level function with\n",
      "similar flexibility) or `histplot` (an axes-level function for histograms).\n",
      "\n",
      "For a guide to updating your code to use the new functions, please see\n",
      "https://gist.github.com/mwaskom/de44147ed2974457ad6372750bbe5751\n",
      "\n",
      "  sns.distplot(df_customers['MonetaryValue'], ax = ax[2])\n"
     ]
    },
    {
     "data": {
      "image/png": "[encoded data removed]",
      "text/plain": [
       "<Figure size 1200x400 with 3 Axes>"
      ]
     },
     "metadata": {},
     "output_type": "display_data"
    }
   ],
   "source": [
    "# Check the distribution of dataset\n",
    "import seaborn as sns\n",
    "fig, ax = plt.subplots(1, 3, figsize=(12,4))\n",
    "sns.distplot(df_customers['Recency'], ax = ax[0])\n",
    "sns.distplot(df_customers['Frequency'], ax = ax[1])\n",
    "sns.distplot(df_customers['MonetaryValue'], ax = ax[2])\n",
    "plt.show()"
   ]
  },
  {
   "cell_type": "code",
   "execution_count": 47,
   "id": "740de38e",
   "metadata": {},
   "outputs": [
    {
     "data": {
      "text/html": [
       "<div>\n",
       "<style scoped>\n",
       "    .dataframe tbody tr th:only-of-type {\n",
       "        vertical-align: middle;\n",
       "    }\n",
       "\n",
       "    .dataframe tbody tr th {\n",
       "        vertical-align: top;\n",
       "    }\n",
       "\n",
       "    .dataframe thead th {\n",
       "        text-align: right;\n",
       "    }\n",
       "</style>\n",
       "<table border=\"1\" class=\"dataframe\">\n",
       "  <thead>\n",
       "    <tr style=\"text-align: right;\">\n",
       "      <th></th>\n",
       "      <th>Recency</th>\n",
       "      <th>Frequency</th>\n",
       "      <th>MonetaryValue</th>\n",
       "    </tr>\n",
       "  </thead>\n",
       "  <tbody>\n",
       "    <tr>\n",
       "      <th>0</th>\n",
       "      <td>15.974805</td>\n",
       "      <td>0.548933</td>\n",
       "      <td>4.812604</td>\n",
       "    </tr>\n",
       "    <tr>\n",
       "      <th>1</th>\n",
       "      <td>20.527283</td>\n",
       "      <td>0.522915</td>\n",
       "      <td>4.974323</td>\n",
       "    </tr>\n",
       "    <tr>\n",
       "      <th>2</th>\n",
       "      <td>17.043617</td>\n",
       "      <td>0.000000</td>\n",
       "      <td>3.555776</td>\n",
       "    </tr>\n",
       "    <tr>\n",
       "      <th>3</th>\n",
       "      <td>6.424027</td>\n",
       "      <td>0.402519</td>\n",
       "      <td>4.909836</td>\n",
       "    </tr>\n",
       "    <tr>\n",
       "      <th>4</th>\n",
       "      <td>23.745737</td>\n",
       "      <td>0.402519</td>\n",
       "      <td>5.112315</td>\n",
       "    </tr>\n",
       "  </tbody>\n",
       "</table>\n",
       "</div>"
      ],
      "text/plain": [
       "     Recency  Frequency  MonetaryValue\n",
       "0  15.974805   0.548933       4.812604\n",
       "1  20.527283   0.522915       4.974323\n",
       "2  17.043617   0.000000       3.555776\n",
       "3   6.424027   0.402519       4.909836\n",
       "4  23.745737   0.402519       5.112315"
      ]
     },
     "execution_count": 47,
     "metadata": {},
     "output_type": "execute_result"
    }
   ],
   "source": [
    "# Boxcow to adjust the skewness of each variable for better K-means results\n",
    "from scipy import stats\n",
    "df_customers_t = pd.DataFrame()\n",
    "df_customers_t['Recency'] = stats.boxcox(df_customers['Recency'])[0]\n",
    "df_customers_t['Frequency'] = stats.boxcox(df_customers['Frequency'])[0]\n",
    "df_customers_t['MonetaryValue'] = stats.boxcox(df_customers['MonetaryValue'])[0]\n",
    "df_customers_t.head()"
   ]
  },
  {
   "cell_type": "code",
   "execution_count": 48,
   "id": "879174be",
   "metadata": {},
   "outputs": [],
   "source": [
    "# Scale the data to prevent dominant variables\n",
    "from sklearn.preprocessing import StandardScaler\n",
    "scaler = StandardScaler()\n",
    "scaler.fit(df_customers_t)\n",
    "\n",
    "df_customers_t = scaler.transform(df_customers_t)"
   ]
  },
  {
   "cell_type": "code",
   "execution_count": 49,
   "id": "15905b30",
   "metadata": {},
   "outputs": [
    {
     "name": "stderr",
     "output_type": "stream",
     "text": [
      "C:\\Users\\HP\\AppData\\Local\\Programs\\Python\\Python310\\lib\\site-packages\\sklearn\\cluster\\_kmeans.py:870: FutureWarning: The default value of `n_init` will change from 10 to 'auto' in 1.4. Set the value of `n_init` explicitly to suppress the warning\n",
      "  warnings.warn(\n",
      "C:\\Users\\HP\\AppData\\Local\\Programs\\Python\\Python310\\lib\\site-packages\\sklearn\\cluster\\_kmeans.py:870: FutureWarning: The default value of `n_init` will change from 10 to 'auto' in 1.4. Set the value of `n_init` explicitly to suppress the warning\n",
      "  warnings.warn(\n",
      "C:\\Users\\HP\\AppData\\Local\\Programs\\Python\\Python310\\lib\\site-packages\\sklearn\\cluster\\_kmeans.py:870: FutureWarning: The default value of `n_init` will change from 10 to 'auto' in 1.4. Set the value of `n_init` explicitly to suppress the warning\n",
      "  warnings.warn(\n",
      "C:\\Users\\HP\\AppData\\Local\\Programs\\Python\\Python310\\lib\\site-packages\\sklearn\\cluster\\_kmeans.py:870: FutureWarning: The default value of `n_init` will change from 10 to 'auto' in 1.4. Set the value of `n_init` explicitly to suppress the warning\n",
      "  warnings.warn(\n",
      "C:\\Users\\HP\\AppData\\Local\\Programs\\Python\\Python310\\lib\\site-packages\\sklearn\\cluster\\_kmeans.py:870: FutureWarning: The default value of `n_init` will change from 10 to 'auto' in 1.4. Set the value of `n_init` explicitly to suppress the warning\n",
      "  warnings.warn(\n",
      "C:\\Users\\HP\\AppData\\Local\\Programs\\Python\\Python310\\lib\\site-packages\\sklearn\\cluster\\_kmeans.py:870: FutureWarning: The default value of `n_init` will change from 10 to 'auto' in 1.4. Set the value of `n_init` explicitly to suppress the warning\n",
      "  warnings.warn(\n",
      "C:\\Users\\HP\\AppData\\Local\\Programs\\Python\\Python310\\lib\\site-packages\\sklearn\\cluster\\_kmeans.py:870: FutureWarning: The default value of `n_init` will change from 10 to 'auto' in 1.4. Set the value of `n_init` explicitly to suppress the warning\n",
      "  warnings.warn(\n",
      "C:\\Users\\HP\\AppData\\Local\\Programs\\Python\\Python310\\lib\\site-packages\\sklearn\\cluster\\_kmeans.py:870: FutureWarning: The default value of `n_init` will change from 10 to 'auto' in 1.4. Set the value of `n_init` explicitly to suppress the warning\n",
      "  warnings.warn(\n",
      "C:\\Users\\HP\\AppData\\Local\\Programs\\Python\\Python310\\lib\\site-packages\\sklearn\\cluster\\_kmeans.py:870: FutureWarning: The default value of `n_init` will change from 10 to 'auto' in 1.4. Set the value of `n_init` explicitly to suppress the warning\n",
      "  warnings.warn(\n",
      "C:\\Users\\HP\\AppData\\Local\\Programs\\Python\\Python310\\lib\\site-packages\\sklearn\\cluster\\_kmeans.py:870: FutureWarning: The default value of `n_init` will change from 10 to 'auto' in 1.4. Set the value of `n_init` explicitly to suppress the warning\n",
      "  warnings.warn(\n"
     ]
    },
    {
     "data": {
      "image/png": "[encoded data removed]",
      "text/plain": [
       "<Figure size 640x480 with 1 Axes>"
      ]
     },
     "metadata": {},
     "output_type": "display_data"
    }
   ],
   "source": [
    "# Choose the number of cluster\n",
    "sse = {}\n",
    "for k in range(1, 11):\n",
    "    kmeans = KMeans(n_clusters=k, random_state=42)\n",
    "    kmeans.fit(df_customers_t)\n",
    "    sse[k] = kmeans.inertia_\n",
    "\n",
    "plt.annotate('Elbow',\n",
    "             xy=(3, sse[3]),\n",
    "             xytext=(0.55, 0.55),\n",
    "             textcoords='figure fraction',\n",
    "             fontsize=16,\n",
    "             arrowprops=dict(facecolor='black', shrink=0.1)\n",
    "            )\n",
    "\n",
    "plt.title('The Elbow Method')\n",
    "plt.xlabel('k')\n",
    "plt.ylabel('SSE')\n",
    "sns.pointplot(x=list(sse.keys()), y=list(sse.values()))\n",
    "plt.show()"
   ]
  },
  {
   "cell_type": "code",
   "execution_count": 50,
   "id": "9e36fa13",
   "metadata": {},
   "outputs": [
    {
     "name": "stderr",
     "output_type": "stream",
     "text": [
      "C:\\Users\\HP\\AppData\\Local\\Programs\\Python\\Python310\\lib\\site-packages\\sklearn\\cluster\\_kmeans.py:870: FutureWarning: The default value of `n_init` will change from 10 to 'auto' in 1.4. Set the value of `n_init` explicitly to suppress the warning\n",
      "  warnings.warn(\n"
     ]
    },
    {
     "data": {
      "text/html": [
       "<div>\n",
       "<style scoped>\n",
       "    .dataframe tbody tr th:only-of-type {\n",
       "        vertical-align: middle;\n",
       "    }\n",
       "\n",
       "    .dataframe tbody tr th {\n",
       "        vertical-align: top;\n",
       "    }\n",
       "\n",
       "    .dataframe thead th {\n",
       "        text-align: right;\n",
       "    }\n",
       "</style>\n",
       "<table border=\"1\" class=\"dataframe\">\n",
       "  <thead>\n",
       "    <tr style=\"text-align: right;\">\n",
       "      <th></th>\n",
       "      <th>Recency</th>\n",
       "      <th>Frequency</th>\n",
       "      <th>MonetaryValue</th>\n",
       "      <th>Cluster</th>\n",
       "    </tr>\n",
       "    <tr>\n",
       "      <th>cus_id</th>\n",
       "      <th></th>\n",
       "      <th></th>\n",
       "      <th></th>\n",
       "      <th></th>\n",
       "    </tr>\n",
       "  </thead>\n",
       "  <tbody>\n",
       "    <tr>\n",
       "      <th>3</th>\n",
       "      <td>290</td>\n",
       "      <td>6</td>\n",
       "      <td>537.390009</td>\n",
       "      <td>1</td>\n",
       "    </tr>\n",
       "    <tr>\n",
       "      <th>15</th>\n",
       "      <td>567</td>\n",
       "      <td>4</td>\n",
       "      <td>715.959999</td>\n",
       "      <td>1</td>\n",
       "    </tr>\n",
       "    <tr>\n",
       "      <th>20</th>\n",
       "      <td>344</td>\n",
       "      <td>1</td>\n",
       "      <td>72.000000</td>\n",
       "      <td>2</td>\n",
       "    </tr>\n",
       "    <tr>\n",
       "      <th>25</th>\n",
       "      <td>33</td>\n",
       "      <td>2</td>\n",
       "      <td>638.000000</td>\n",
       "      <td>3</td>\n",
       "    </tr>\n",
       "    <tr>\n",
       "      <th>34</th>\n",
       "      <td>846</td>\n",
       "      <td>2</td>\n",
       "      <td>920.000000</td>\n",
       "      <td>1</td>\n",
       "    </tr>\n",
       "  </tbody>\n",
       "</table>\n",
       "</div>"
      ],
      "text/plain": [
       "        Recency  Frequency  MonetaryValue  Cluster\n",
       "cus_id                                            \n",
       "3           290          6     537.390009        1\n",
       "15          567          4     715.959999        1\n",
       "20          344          1      72.000000        2\n",
       "25           33          2     638.000000        3\n",
       "34          846          2     920.000000        1"
      ]
     },
     "execution_count": 50,
     "metadata": {},
     "output_type": "execute_result"
    }
   ],
   "source": [
    "# Fit the model to the data and lebel the data\n",
    "model = KMeans(n_clusters=4, random_state=42)\n",
    "model.fit(df_customers_t)\n",
    "df_customers['Cluster'] = model.labels_\n",
    "df_customers.head()"
   ]
  },
  {
   "cell_type": "code",
   "execution_count": 51,
   "id": "afe1f34b",
   "metadata": {},
   "outputs": [
    {
     "data": {
      "text/html": [
       "<div>\n",
       "<style scoped>\n",
       "    .dataframe tbody tr th:only-of-type {\n",
       "        vertical-align: middle;\n",
       "    }\n",
       "\n",
       "    .dataframe tbody tr th {\n",
       "        vertical-align: top;\n",
       "    }\n",
       "\n",
       "    .dataframe thead th {\n",
       "        text-align: right;\n",
       "    }\n",
       "</style>\n",
       "<table border=\"1\" class=\"dataframe\">\n",
       "  <thead>\n",
       "    <tr style=\"text-align: right;\">\n",
       "      <th></th>\n",
       "      <th>Recency</th>\n",
       "      <th>Frequency</th>\n",
       "      <th>MonetaryValue</th>\n",
       "    </tr>\n",
       "    <tr>\n",
       "      <th>Cluster</th>\n",
       "      <th></th>\n",
       "      <th></th>\n",
       "      <th></th>\n",
       "    </tr>\n",
       "  </thead>\n",
       "  <tbody>\n",
       "    <tr>\n",
       "      <th>0</th>\n",
       "      <td>78.98</td>\n",
       "      <td>1.00</td>\n",
       "      <td>58.45</td>\n",
       "    </tr>\n",
       "    <tr>\n",
       "      <th>1</th>\n",
       "      <td>464.56</td>\n",
       "      <td>2.65</td>\n",
       "      <td>396.05</td>\n",
       "    </tr>\n",
       "    <tr>\n",
       "      <th>2</th>\n",
       "      <td>499.01</td>\n",
       "      <td>1.00</td>\n",
       "      <td>58.42</td>\n",
       "    </tr>\n",
       "    <tr>\n",
       "      <th>3</th>\n",
       "      <td>70.08</td>\n",
       "      <td>2.72</td>\n",
       "      <td>382.68</td>\n",
       "    </tr>\n",
       "  </tbody>\n",
       "</table>\n",
       "</div>"
      ],
      "text/plain": [
       "         Recency  Frequency  MonetaryValue\n",
       "Cluster                                   \n",
       "0          78.98       1.00          58.45\n",
       "1         464.56       2.65         396.05\n",
       "2         499.01       1.00          58.42\n",
       "3          70.08       2.72         382.68"
      ]
     },
     "execution_count": 51,
     "metadata": {},
     "output_type": "execute_result"
    }
   ],
   "source": [
    "# Showing characteristics of each groups\n",
    "df_customers.groupby('Cluster').agg(\n",
    "    {\n",
    "        'Recency':'mean',\n",
    "        'Frequency':'mean',\n",
    "        'MonetaryValue':'mean'\n",
    "    }\n",
    ").round(2)"
   ]
  }
 ],
 "metadata": {
  "kernelspec": {
   "display_name": "Python 3 (ipykernel)",
   "language": "python",
   "name": "python3"
  },
  "language_info": {
   "codemirror_mode": {
    "name": "ipython",
    "version": 3
   },
   "file_extension": ".py",
   "mimetype": "text/x-python",
   "name": "python",
   "nbconvert_exporter": "python",
   "pygments_lexer": "ipython3",
   "version": "3.10.11"
  }
 },
 "nbformat": 4,
 "nbformat_minor": 5
}
